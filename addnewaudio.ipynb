{
 "cells": [
  {
   "cell_type": "code",
   "execution_count": 6,
   "metadata": {},
   "outputs": [],
   "source": [
    "import os\n",
    "import csv\n",
    "\n",
    "language=\"hindi\"\n",
    "csv_file = language+\"_unprocessed_audio_data.csv\"\n"
   ]
  },
  {
   "cell_type": "code",
   "execution_count": 2,
   "metadata": {},
   "outputs": [
    {
     "data": {
      "text/plain": [
       "0"
      ]
     },
     "execution_count": 2,
     "metadata": {},
     "output_type": "execute_result"
    }
   ],
   "source": [
    "data = []\n",
    "\n",
    "try :\n",
    "    with open(csv_file, mode=\"r\") as file:\n",
    "        reader = csv.reader(file)\n",
    "        header = next(reader)  # Read the header row\n",
    "        for row in reader:\n",
    "            data.append(row)\n",
    "\n",
    "except:\n",
    "    header=[\"name\",\"male\",\"female\",\"english\",\"hindi\",\"punjabi\",\"bangoli\",\"noise\"]\n",
    "    \n",
    "\n",
    "len(data)"
   ]
  },
  {
   "cell_type": "code",
   "execution_count": 12,
   "metadata": {},
   "outputs": [
    {
     "data": {
      "text/plain": [
       "'/Users/dheemankumar/Desktop/FILE/audio ai'"
      ]
     },
     "execution_count": 12,
     "metadata": {},
     "output_type": "execute_result"
    }
   ],
   "source": [
    "os.getcwd()"
   ]
  },
  {
   "cell_type": "markdown",
   "metadata": {},
   "source": [
    "os.rename(\"𝐒𝐇𝐎𝐋𝐀𝐘_1_-01.wav\",\"0001.wav\")"
   ]
  },
  {
   "cell_type": "code",
   "execution_count": 3,
   "metadata": {},
   "outputs": [],
   "source": [
    "names=os.listdir(\"newaudio\")\n",
    "index=len(data)\n",
    "for i in range(len(names)):\n",
    "    if(names[i] != \"note\"):\n",
    "        os.rename(\"newaudio/\"+names[i],\"unlisted_audio/\"+language +\" audio sample \"+str(i+index)+\".wav\")"
   ]
  },
  {
   "cell_type": "code",
   "execution_count": 4,
   "metadata": {},
   "outputs": [],
   "source": [
    "names=os.listdir(\"unlisted_audio\")\n",
    "for i in names:\n",
    "    if(i != \"note\"):\n",
    "         os.rename(\"unlisted_audio/\"+i,\"unprocessed_audio/\"+i)\n",
    "         data.append([i,0,0,0,1,0,0,0])\n",
    "\n",
    "data.sort()\n",
    "\n",
    "# Writing data to CSV file\n",
    "with open(csv_file, mode=\"w\", newline=\"\") as file:\n",
    "    writer = csv.writer(file)\n",
    "    writer.writerow(header)  # Write the header row\n",
    "    writer.writerows(data)\n",
    "\n"
   ]
  },
  {
   "cell_type": "code",
   "execution_count": 7,
   "metadata": {},
   "outputs": [],
   "source": [
    "# Writing data to CSV file\n",
    "with open(csv_file, mode=\"w\", newline=\"\") as file:\n",
    "    writer = csv.writer(file)\n",
    "    writer.writerow(header)  # Write the header row\n",
    "    writer.writerows(data)\n"
   ]
  }
 ],
 "metadata": {
  "kernelspec": {
   "display_name": "Python 3",
   "language": "python",
   "name": "python3"
  },
  "language_info": {
   "codemirror_mode": {
    "name": "ipython",
    "version": 3
   },
   "file_extension": ".py",
   "mimetype": "text/x-python",
   "name": "python",
   "nbconvert_exporter": "python",
   "pygments_lexer": "ipython3",
   "version": "3.9.6"
  },
  "orig_nbformat": 4
 },
 "nbformat": 4,
 "nbformat_minor": 2
}
