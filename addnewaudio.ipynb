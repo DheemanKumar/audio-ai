{
 "cells": [
  {
   "cell_type": "code",
   "execution_count": 1,
   "metadata": {},
   "outputs": [
    {
     "name": "stderr",
     "output_type": "stream",
     "text": [
      "/Library/Frameworks/Python.framework/Versions/3.11/lib/python3.11/site-packages/pydub/utils.py:170: RuntimeWarning: Couldn't find ffmpeg or avconv - defaulting to ffmpeg, but may not work\n",
      "  warn(\"Couldn't find ffmpeg or avconv - defaulting to ffmpeg, but may not work\", RuntimeWarning)\n"
     ]
    }
   ],
   "source": [
    "import os\n",
    "import csv\n",
    "from pydub import AudioSegment\n",
    "import os\n",
    "\n",
    "language=\"hindi\"\n",
    "csv_file = language+\"_unprocessed_audio_data.csv\"\n",
    "csv_file2 = language+\"_broken_3s_audio_data.csv\"\n"
   ]
  },
  {
   "cell_type": "code",
   "execution_count": 2,
   "metadata": {},
   "outputs": [
    {
     "data": {
      "text/plain": [
       "0"
      ]
     },
     "execution_count": 2,
     "metadata": {},
     "output_type": "execute_result"
    }
   ],
   "source": [
    "data = []\n",
    "\n",
    "try :\n",
    "    with open(csv_file, mode=\"r\") as file:\n",
    "        reader = csv.reader(file)\n",
    "        header = next(reader)  # Read the header row\n",
    "        for row in reader:\n",
    "            data.append(row)\n",
    "\n",
    "except:\n",
    "    header=[\"name\",\"male\",\"female\",\"english\",\"hindi\",\"punjabi\",\"bangoli\",\"noise\"]\n",
    "    \n",
    "\n",
    "len(data)"
   ]
  },
  {
   "cell_type": "code",
   "execution_count": 13,
   "metadata": {},
   "outputs": [
    {
     "data": {
      "text/plain": [
       "'/Users/dheemankumar/Desktop/FILE/audio-ai'"
      ]
     },
     "execution_count": 13,
     "metadata": {},
     "output_type": "execute_result"
    }
   ],
   "source": [
    "os.getcwd()"
   ]
  },
  {
   "cell_type": "markdown",
   "metadata": {},
   "source": [
    "os.rename(\"𝐒𝐇𝐎𝐋𝐀𝐘_1_-01.wav\",\"0001.wav\")"
   ]
  },
  {
   "cell_type": "code",
   "execution_count": 3,
   "metadata": {},
   "outputs": [],
   "source": [
    "names=os.listdir(\"newaudio\")\n",
    "index=len(data)\n",
    "for i in range(len(names)):\n",
    "    if(names[i] != \"note\"):\n",
    "        os.rename(\"newaudio/\"+names[i],\"unlisted_audio/\"+language +\" audio sample \"+str(i+index)+\".wav\")"
   ]
  },
  {
   "cell_type": "code",
   "execution_count": 4,
   "metadata": {},
   "outputs": [],
   "source": [
    "names=os.listdir(\"unlisted_audio\")\n",
    "for i in names:\n",
    "    if(i != \"note\"):\n",
    "         os.rename(\"unlisted_audio/\"+i,\"unbroken_audio/\"+i)\n",
    "         data.append([i,1,0,0,1,0,0,0])\n",
    "\n",
    "data.sort()\n",
    "\n",
    "# Writing data to CSV file\n",
    "with open(csv_file, mode=\"w\", newline=\"\") as file:\n",
    "    writer = csv.writer(file)\n",
    "    writer.writerow(header)  # Write the header row\n",
    "    writer.writerows(data)\n",
    "\n"
   ]
  },
  {
   "cell_type": "code",
   "execution_count": 5,
   "metadata": {},
   "outputs": [],
   "source": [
    "names=os.listdir(\"unbroken_audio\")\n",
    "for i in names:\n",
    "    if(i != \"note\"):\n",
    "        data.append([i,1,0,0,1,0,0,0])\n",
    "\n",
    "data.sort()"
   ]
  },
  {
   "cell_type": "code",
   "execution_count": 6,
   "metadata": {},
   "outputs": [],
   "source": [
    "# Writing data to CSV file\n",
    "with open(csv_file, mode=\"w\", newline=\"\") as file:\n",
    "    writer = csv.writer(file)\n",
    "    writer.writerow(header)  # Write the header row\n",
    "    writer.writerows(data)\n"
   ]
  },
  {
   "cell_type": "code",
   "execution_count": 11,
   "metadata": {},
   "outputs": [],
   "source": [
    "def split_audio(input_file, output_folder, segment_duration,index,hedder, start_from_end=False):\n",
    "    audio = AudioSegment.from_wav(input_file)\n",
    "    total_duration = len(audio)\n",
    "    segment_length = segment_duration * 1000  # Convert to milliseconds\n",
    "\n",
    "    audio_data=[]\n",
    "\n",
    "    if start_from_end:\n",
    "        start_times = list(range(total_duration, 0, -segment_length))\n",
    "    else:\n",
    "        start_times = list(range(0, total_duration, segment_length))\n",
    "\n",
    "    for i, start_time in enumerate(start_times):\n",
    "        end_time = min(start_time + segment_length, total_duration)\n",
    "        segment = audio[start_time:end_time]\n",
    "        \n",
    "        if(segment.duration_seconds==3):\n",
    "            segment.export(os.path.join(output_folder, f\"{hedder}_sample_{i+index + 1}.wav\"), format=\"wav\")\n",
    "            audio_data.append(f\"{hedder}_sample_{i+index + 1}.wav\")\n",
    "    \n",
    "    return audio_data\n"
   ]
  },
  {
   "cell_type": "code",
   "execution_count": 14,
   "metadata": {},
   "outputs": [],
   "source": [
    "#audio = AudioSegment.from_wav('/Users/dheemankumar/Desktop/FILE/audio-ai/unbroken_audio/hindi audio sample 4.wav')"
   ]
  },
  {
   "cell_type": "code",
   "execution_count": 32,
   "metadata": {},
   "outputs": [
    {
     "data": {
      "text/plain": [
       "34"
      ]
     },
     "execution_count": 32,
     "metadata": {},
     "output_type": "execute_result"
    }
   ],
   "source": [
    "len(names)\n"
   ]
  },
  {
   "cell_type": "code",
   "execution_count": 19,
   "metadata": {},
   "outputs": [],
   "source": [
    "udata=[]\n",
    "\n",
    "try :\n",
    "    with open(csv_file, mode=\"r\") as file:\n",
    "        reader = csv.reader(file)\n",
    "        header = next(reader)  # Read the header row\n",
    "        for row in reader:\n",
    "            udata.append(row)\n",
    "\n",
    "except:\n",
    "    print(\"there is no unprocessed data file \")\n",
    "    exit()\n",
    "\n",
    "bdata=[]\n",
    "\n",
    "try :\n",
    "    with open(csv_file2, mode=\"r\") as file:\n",
    "        reader = csv.reader(file)\n",
    "        header = next(reader)  # Read the header row\n",
    "        for row in reader:\n",
    "            bdata.append(row)\n",
    "\n",
    "except:\n",
    "    pass\n",
    "\n",
    "\n",
    "\n"
   ]
  },
  {
   "cell_type": "code",
   "execution_count": 20,
   "metadata": {},
   "outputs": [
    {
     "name": "stdout",
     "output_type": "stream",
     "text": [
      "['note', 'hindi audio sample 4.wav', 'hindi audio sample 3.wav', 'hindi audio sample 2.wav', 'hindi audio sample 1.wav']\n",
      "\n",
      "hindi audio sample 4.wav\n",
      "['hindi_sample_353.wav', 'hindi_sample_354.wav', 'hindi_sample_355.wav', 'hindi_sample_356.wav', 'hindi_sample_357.wav', 'hindi_sample_358.wav', 'hindi_sample_359.wav', 'hindi_sample_360.wav', 'hindi_sample_361.wav', 'hindi_sample_362.wav', 'hindi_sample_363.wav', 'hindi_sample_364.wav', 'hindi_sample_365.wav', 'hindi_sample_366.wav', 'hindi_sample_367.wav', 'hindi_sample_368.wav', 'hindi_sample_369.wav', 'hindi_sample_370.wav', 'hindi_sample_371.wav', 'hindi_sample_372.wav', 'hindi_sample_373.wav', 'hindi_sample_374.wav', 'hindi_sample_375.wav', 'hindi_sample_376.wav', 'hindi_sample_377.wav', 'hindi_sample_378.wav', 'hindi_sample_379.wav', 'hindi_sample_380.wav', 'hindi_sample_381.wav', 'hindi_sample_382.wav', 'hindi_sample_383.wav', 'hindi_sample_384.wav', 'hindi_sample_385.wav', 'hindi_sample_386.wav', 'hindi_sample_387.wav', 'hindi_sample_388.wav', 'hindi_sample_389.wav', 'hindi_sample_390.wav', 'hindi_sample_391.wav', 'hindi_sample_392.wav', 'hindi_sample_393.wav', 'hindi_sample_394.wav', 'hindi_sample_395.wav', 'hindi_sample_396.wav', 'hindi_sample_397.wav', 'hindi_sample_398.wav', 'hindi_sample_399.wav', 'hindi_sample_400.wav', 'hindi_sample_401.wav', 'hindi_sample_402.wav', 'hindi_sample_403.wav', 'hindi_sample_404.wav', 'hindi_sample_405.wav', 'hindi_sample_406.wav', 'hindi_sample_407.wav', 'hindi_sample_408.wav', 'hindi_sample_409.wav', 'hindi_sample_410.wav', 'hindi_sample_411.wav']\n",
      "['hindi audio sample 4.wav', '1', '0', '0', '1', '0', '0', '0']\n",
      "['hindi audio sample 4.wav', '1', '0', '0', '1', '0', '0', '0']\n",
      "\n",
      "hindi audio sample 3.wav\n",
      "['hindi_sample_470.wav', 'hindi_sample_471.wav', 'hindi_sample_472.wav', 'hindi_sample_473.wav', 'hindi_sample_474.wav', 'hindi_sample_475.wav', 'hindi_sample_476.wav', 'hindi_sample_477.wav', 'hindi_sample_478.wav', 'hindi_sample_479.wav', 'hindi_sample_480.wav', 'hindi_sample_481.wav', 'hindi_sample_482.wav', 'hindi_sample_483.wav', 'hindi_sample_484.wav', 'hindi_sample_485.wav', 'hindi_sample_486.wav', 'hindi_sample_487.wav', 'hindi_sample_488.wav', 'hindi_sample_489.wav', 'hindi_sample_490.wav', 'hindi_sample_491.wav', 'hindi_sample_492.wav', 'hindi_sample_493.wav', 'hindi_sample_494.wav', 'hindi_sample_495.wav', 'hindi_sample_496.wav', 'hindi_sample_497.wav', 'hindi_sample_498.wav', 'hindi_sample_499.wav', 'hindi_sample_500.wav', 'hindi_sample_501.wav', 'hindi_sample_502.wav', 'hindi_sample_503.wav', 'hindi_sample_504.wav', 'hindi_sample_505.wav', 'hindi_sample_506.wav', 'hindi_sample_507.wav', 'hindi_sample_508.wav', 'hindi_sample_509.wav', 'hindi_sample_510.wav', 'hindi_sample_511.wav', 'hindi_sample_512.wav', 'hindi_sample_513.wav', 'hindi_sample_514.wav', 'hindi_sample_515.wav', 'hindi_sample_516.wav', 'hindi_sample_517.wav', 'hindi_sample_518.wav', 'hindi_sample_519.wav', 'hindi_sample_520.wav', 'hindi_sample_521.wav', 'hindi_sample_522.wav', 'hindi_sample_523.wav', 'hindi_sample_524.wav', 'hindi_sample_525.wav', 'hindi_sample_526.wav', 'hindi_sample_527.wav', 'hindi_sample_528.wav', 'hindi_sample_529.wav', 'hindi_sample_530.wav', 'hindi_sample_531.wav', 'hindi_sample_532.wav', 'hindi_sample_533.wav', 'hindi_sample_534.wav']\n",
      "['hindi audio sample 3.wav', '1', '0', '0', '1', '0', '0', '0']\n",
      "['hindi audio sample 3.wav', '1', '0', '0', '1', '0', '0', '0']\n",
      "\n",
      "hindi audio sample 2.wav\n",
      "['hindi_sample_599.wav', 'hindi_sample_600.wav', 'hindi_sample_601.wav', 'hindi_sample_602.wav', 'hindi_sample_603.wav', 'hindi_sample_604.wav', 'hindi_sample_605.wav', 'hindi_sample_606.wav', 'hindi_sample_607.wav', 'hindi_sample_608.wav', 'hindi_sample_609.wav', 'hindi_sample_610.wav', 'hindi_sample_611.wav', 'hindi_sample_612.wav', 'hindi_sample_613.wav', 'hindi_sample_614.wav', 'hindi_sample_615.wav', 'hindi_sample_616.wav', 'hindi_sample_617.wav', 'hindi_sample_618.wav', 'hindi_sample_619.wav', 'hindi_sample_620.wav', 'hindi_sample_621.wav', 'hindi_sample_622.wav', 'hindi_sample_623.wav', 'hindi_sample_624.wav', 'hindi_sample_625.wav', 'hindi_sample_626.wav', 'hindi_sample_627.wav', 'hindi_sample_628.wav', 'hindi_sample_629.wav', 'hindi_sample_630.wav', 'hindi_sample_631.wav', 'hindi_sample_632.wav', 'hindi_sample_633.wav', 'hindi_sample_634.wav', 'hindi_sample_635.wav', 'hindi_sample_636.wav', 'hindi_sample_637.wav', 'hindi_sample_638.wav', 'hindi_sample_639.wav', 'hindi_sample_640.wav', 'hindi_sample_641.wav', 'hindi_sample_642.wav', 'hindi_sample_643.wav', 'hindi_sample_644.wav', 'hindi_sample_645.wav', 'hindi_sample_646.wav', 'hindi_sample_647.wav', 'hindi_sample_648.wav', 'hindi_sample_649.wav', 'hindi_sample_650.wav', 'hindi_sample_651.wav', 'hindi_sample_652.wav', 'hindi_sample_653.wav', 'hindi_sample_654.wav', 'hindi_sample_655.wav', 'hindi_sample_656.wav', 'hindi_sample_657.wav']\n",
      "['hindi audio sample 2.wav', '1', '0', '0', '1', '0', '0', '0']\n",
      "['hindi audio sample 2.wav', '1', '0', '0', '1', '0', '0', '0']\n",
      "\n",
      "hindi audio sample 1.wav\n",
      "[]\n",
      "['hindi audio sample 1.wav', '1', '0', '0', '1', '0', '0', '0']\n",
      "['hindi audio sample 1.wav', '1', '0', '0', '1', '0', '0', '0']\n",
      "\n"
     ]
    }
   ],
   "source": [
    "\n",
    "\n",
    "names=os.listdir(\"unbroken_audio\")\n",
    "\n",
    "print(names)\n",
    "\n",
    "for i in names:\n",
    "    if(i != \"note\"):\n",
    "        input_file = f\"/Users/dheemankumar/Desktop/FILE/audio-ai/unbroken_audio/{i}\"\n",
    "    \n",
    "        output_folder = \"/Users/dheemankumar/Desktop/FILE/audio-ai/3sec_audio\"\n",
    "        if not os.path.exists(output_folder):\n",
    "            os.makedirs(output_folder)\n",
    "        segment_duration = 3  # in seconds\n",
    "\n",
    "        print(i)\n",
    "        Aaudio=split_audio(input_file, output_folder, segment_duration,len(os.listdir(output_folder)),language, start_from_end=False)\n",
    "        print(Aaudio)\n",
    "        Aaudio+=split_audio(input_file, output_folder, segment_duration,len(os.listdir(output_folder)),language, start_from_end=True)\n",
    "\n",
    "        variables=[]\n",
    "        \n",
    "        for j in udata:\n",
    "            if(j[0]==i):\n",
    "                print(j)\n",
    "                variables=j[1:]\n",
    "\n",
    "        for j in Aaudio:\n",
    "            bdata.append([j]+variables)\n",
    "        \n",
    "        #print(Aaudio)\n",
    "\n",
    "        \n",
    "        \n",
    "        \n",
    "\n",
    "        os.rename(input_file,f\"/Users/dheemankumar/Desktop/FILE/audio-ai/broken_audio/{i}\")\n",
    "    print()\n",
    "\n",
    "        \n",
    "\n"
   ]
  },
  {
   "cell_type": "code",
   "execution_count": 21,
   "metadata": {},
   "outputs": [
    {
     "data": {
      "text/plain": [
       "['note',\n",
       " 'hindi audio sample 4.wav',\n",
       " 'hindi audio sample 3.wav',\n",
       " 'hindi audio sample 2.wav',\n",
       " 'hindi audio sample 1.wav']"
      ]
     },
     "execution_count": 21,
     "metadata": {},
     "output_type": "execute_result"
    }
   ],
   "source": [
    "\n",
    "\n",
    "#print(bdata)        \n",
    "\n",
    "\n",
    "with open(csv_file2, mode=\"w\", newline=\"\") as file:\n",
    "    writer = csv.writer(file)\n",
    "    writer.writerow(header)  # Write the header row\n",
    "    writer.writerows(bdata)    \n",
    "    \n",
    "\n",
    "names\n",
    "    "
   ]
  }
 ],
 "metadata": {
  "kernelspec": {
   "display_name": "Python 3",
   "language": "python",
   "name": "python3"
  },
  "language_info": {
   "codemirror_mode": {
    "name": "ipython",
    "version": 3
   },
   "file_extension": ".py",
   "mimetype": "text/x-python",
   "name": "python",
   "nbconvert_exporter": "python",
   "pygments_lexer": "ipython3",
   "version": "3.11.5"
  },
  "orig_nbformat": 4
 },
 "nbformat": 4,
 "nbformat_minor": 2
}
