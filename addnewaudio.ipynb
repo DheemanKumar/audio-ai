{
 "cells": [
  {
   "cell_type": "code",
   "execution_count": 73,
   "metadata": {},
   "outputs": [],
   "source": [
    "import os\n",
    "import csv\n",
    "from pydub import AudioSegment\n",
    "import os\n",
    "\n",
    "language=\"hindi\"\n",
    "csv_file = language+\"_unprocessed_audio_data.csv\"\n",
    "csv_file2 = language+\"_broken_3s_audio_data.csv\"\n"
   ]
  },
  {
   "cell_type": "code",
   "execution_count": 25,
   "metadata": {},
   "outputs": [
    {
     "data": {
      "text/plain": [
       "28"
      ]
     },
     "execution_count": 25,
     "metadata": {},
     "output_type": "execute_result"
    }
   ],
   "source": [
    "data = []\n",
    "\n",
    "try :\n",
    "    with open(csv_file, mode=\"r\") as file:\n",
    "        reader = csv.reader(file)\n",
    "        header = next(reader)  # Read the header row\n",
    "        for row in reader:\n",
    "            data.append(row)\n",
    "\n",
    "except:\n",
    "    header=[\"name\",\"male\",\"female\",\"english\",\"hindi\",\"punjabi\",\"bangoli\",\"noise\"]\n",
    "    \n",
    "\n",
    "len(data)"
   ]
  },
  {
   "cell_type": "code",
   "execution_count": 8,
   "metadata": {},
   "outputs": [
    {
     "data": {
      "text/plain": [
       "'/Users/dheemankumar/Desktop/FILE/audio ai'"
      ]
     },
     "execution_count": 8,
     "metadata": {},
     "output_type": "execute_result"
    }
   ],
   "source": [
    "os.getcwd()"
   ]
  },
  {
   "cell_type": "markdown",
   "metadata": {},
   "source": [
    "os.rename(\"𝐒𝐇𝐎𝐋𝐀𝐘_1_-01.wav\",\"0001.wav\")"
   ]
  },
  {
   "cell_type": "code",
   "execution_count": 26,
   "metadata": {},
   "outputs": [],
   "source": [
    "names=os.listdir(\"newaudio\")\n",
    "index=len(data)\n",
    "for i in range(len(names)):\n",
    "    if(names[i] != \"note\"):\n",
    "        os.rename(\"newaudio/\"+names[i],\"unlisted_audio/\"+language +\" audio sample \"+str(i+index)+\".wav\")"
   ]
  },
  {
   "cell_type": "code",
   "execution_count": 27,
   "metadata": {},
   "outputs": [],
   "source": [
    "names=os.listdir(\"unlisted_audio\")\n",
    "for i in names:\n",
    "    if(i != \"note\"):\n",
    "         os.rename(\"unlisted_audio/\"+i,\"unbroken_audio/\"+i)\n",
    "         data.append([i,1,0,0,1,0,0,0])\n",
    "\n",
    "data.sort()\n",
    "\n",
    "# Writing data to CSV file\n",
    "with open(csv_file, mode=\"w\", newline=\"\") as file:\n",
    "    writer = csv.writer(file)\n",
    "    writer.writerow(header)  # Write the header row\n",
    "    writer.writerows(data)\n",
    "\n"
   ]
  },
  {
   "cell_type": "code",
   "execution_count": 16,
   "metadata": {},
   "outputs": [],
   "source": [
    "names=os.listdir(\"unbroken_audio\")\n",
    "for i in names:\n",
    "    if(i != \"note\"):\n",
    "        data.append([i,1,0,0,1,0,0,0])\n",
    "\n",
    "data.sort()"
   ]
  },
  {
   "cell_type": "code",
   "execution_count": 17,
   "metadata": {},
   "outputs": [],
   "source": [
    "# Writing data to CSV file\n",
    "with open(csv_file, mode=\"w\", newline=\"\") as file:\n",
    "    writer = csv.writer(file)\n",
    "    writer.writerow(header)  # Write the header row\n",
    "    writer.writerows(data)\n"
   ]
  },
  {
   "cell_type": "code",
   "execution_count": 63,
   "metadata": {},
   "outputs": [],
   "source": [
    "def split_audio(input_file, output_folder, segment_duration,index,hedder, start_from_end=False):\n",
    "    audio = AudioSegment.from_wav(input_file)\n",
    "    total_duration = len(audio)\n",
    "    segment_length = segment_duration * 1000  # Convert to milliseconds\n",
    "\n",
    "    audio_data=[]\n",
    "\n",
    "    if start_from_end:\n",
    "        start_times = list(range(total_duration, 0, -segment_length))\n",
    "    else:\n",
    "        start_times = list(range(0, total_duration, segment_length))\n",
    "\n",
    "    for i, start_time in enumerate(start_times):\n",
    "        end_time = min(start_time + segment_length, total_duration)\n",
    "        segment = audio[start_time:end_time]\n",
    "        \n",
    "        if(segment.duration_seconds==3):\n",
    "            segment.export(os.path.join(output_folder, f\"{hedder}_sample_{i+index + 1}.wav\"), format=\"wav\")\n",
    "            audio_data.append(f\"{hedder}_sample_{i+index + 1}.wav\")\n",
    "    \n",
    "    return audio_data\n"
   ]
  },
  {
   "cell_type": "code",
   "execution_count": 31,
   "metadata": {},
   "outputs": [],
   "source": []
  },
  {
   "cell_type": "code",
   "execution_count": 32,
   "metadata": {},
   "outputs": [
    {
     "data": {
      "text/plain": [
       "34"
      ]
     },
     "execution_count": 32,
     "metadata": {},
     "output_type": "execute_result"
    }
   ],
   "source": [
    "len(names)\n"
   ]
  },
  {
   "cell_type": "code",
   "execution_count": 83,
   "metadata": {},
   "outputs": [
    {
     "data": {
      "text/plain": [
       "['note']"
      ]
     },
     "execution_count": 83,
     "metadata": {},
     "output_type": "execute_result"
    }
   ],
   "source": [
    "udata=[]\n",
    "\n",
    "try :\n",
    "    with open(csv_file, mode=\"r\") as file:\n",
    "        reader = csv.reader(file)\n",
    "        header = next(reader)  # Read the header row\n",
    "        for row in reader:\n",
    "            udata.append(row)\n",
    "\n",
    "except:\n",
    "    print(\"there is no unprocessed data file \")\n",
    "    exit()\n",
    "\n",
    "bdata=[]\n",
    "\n",
    "try :\n",
    "    with open(csv_file2, mode=\"r\") as file:\n",
    "        reader = csv.reader(file)\n",
    "        header = next(reader)  # Read the header row\n",
    "        for row in reader:\n",
    "            bdata.append(row)\n",
    "\n",
    "except:\n",
    "    pass\n",
    "\n",
    "\n",
    "\n",
    "\n",
    "\n",
    "names=os.listdir(\"unbroken_audio\")\n",
    "\n",
    "for i in names:\n",
    "    if(i != \"note\"):\n",
    "        input_file = f\"/Users/dheemankumar/Desktop/FILE/audio ai/unbroken_audio/{i}\"\n",
    "    \n",
    "        output_folder = \"/Users/dheemankumar/Desktop/FILE/audio ai/3sec_audio\"\n",
    "        if not os.path.exists(output_folder):\n",
    "            os.makedirs(output_folder)\n",
    "        segment_duration = 3  # in seconds\n",
    "\n",
    "        Aaudio=split_audio(input_file, output_folder, segment_duration,len(os.listdir(output_folder)),language, start_from_end=False)\n",
    "        Aaudio+=split_audio(input_file, output_folder, segment_duration,len(os.listdir(output_folder)),language, start_from_end=True)\n",
    "\n",
    "        variables=[]\n",
    "        \n",
    "        for j in udata:\n",
    "            if(j[0]==i):\n",
    "                print(j)\n",
    "                variables=j[1:]\n",
    "\n",
    "        for j in Aaudio:\n",
    "            bdata.append([j]+variables)\n",
    "        \n",
    "        #print(Aaudio)\n",
    "\n",
    "        \n",
    "        \n",
    "        \n",
    "\n",
    "        os.rename(input_file,f\"/Users/dheemankumar/Desktop/FILE/audio ai/broken_audio/{i}\")\n",
    "\n",
    "        \n",
    "\n",
    "\n",
    "\n",
    "#print(bdata)        \n",
    "\n",
    "\n",
    "with open(csv_file2, mode=\"w\", newline=\"\") as file:\n",
    "    writer = csv.writer(file)\n",
    "    writer.writerow(header)  # Write the header row\n",
    "    writer.writerows(bdata)    \n",
    "    \n",
    "\n",
    "names\n",
    "    "
   ]
  }
 ],
 "metadata": {
  "kernelspec": {
   "display_name": "Python 3",
   "language": "python",
   "name": "python3"
  },
  "language_info": {
   "codemirror_mode": {
    "name": "ipython",
    "version": 3
   },
   "file_extension": ".py",
   "mimetype": "text/x-python",
   "name": "python",
   "nbconvert_exporter": "python",
   "pygments_lexer": "ipython3",
   "version": "3.9.6"
  },
  "orig_nbformat": 4
 },
 "nbformat": 4,
 "nbformat_minor": 2
}
