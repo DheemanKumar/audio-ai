{
 "cells": [
  {
   "cell_type": "code",
   "execution_count": 1,
   "metadata": {},
   "outputs": [],
   "source": [
    "import pandas as pd\n",
    "import librosa\n",
    "import numpy as np\n",
    "from tensorflow.keras import layers,models\n",
    "from sklearn.model_selection import train_test_split\n",
    "from tensorflow.keras.models import save_model\n"
   ]
  },
  {
   "cell_type": "code",
   "execution_count": 2,
   "metadata": {},
   "outputs": [],
   "source": [
    "csv_file_path = '/Users/dheemankumar/github/audio-ai/broken_3s_audio_data.csv'\n",
    "df = pd.read_csv(csv_file_path)"
   ]
  },
  {
   "cell_type": "code",
   "execution_count": 3,
   "metadata": {},
   "outputs": [],
   "source": [
    "audio_data = []\n",
    "labels_gender = []\n",
    "\n",
    "# Step 2 and 3: Load audio files and process the data with a sample rate of 22050\n",
    "for index, row in df.iterrows():\n",
    "    audio_file_path = '/Users/dheemankumar/github/audio-ai/3sec_audio/' + row['name']  # Adjust the path as needed\n",
    "    audio, sample_rate = librosa.load(audio_file_path, sr=22050)  # Load audio with a sample rate of 22050\n",
    "\n",
    "    mel_spectrogram = librosa.feature.melspectrogram(y=audio, sr=sample_rate)\n",
    "\n",
    "    # Convert to decibels (log scale)\n",
    "    mel_spectrogram_db = librosa.amplitude_to_db(mel_spectrogram, ref=np.max)\n",
    "\n",
    "    mel_spectrogram_db_with_channel = np.expand_dims(mel_spectrogram_db, axis=-1)\n",
    "\n",
    "    # Append the processed audio data and label to the lists\n",
    "    audio_data.append(mel_spectrogram_db_with_channel)\n",
    "\n",
    "\n",
    "    labels_gender.append(row[['male','female']])"
   ]
  },
  {
   "cell_type": "code",
   "execution_count": 4,
   "metadata": {},
   "outputs": [],
   "source": [
    "# Step 4: Create NumPy arrays\n",
    "audio_data = np.array(audio_data)\n",
    "labels_gender = np.array(labels_gender)"
   ]
  },
  {
   "cell_type": "code",
   "execution_count": 5,
   "metadata": {},
   "outputs": [
    {
     "data": {
      "text/plain": [
       "(13388, 2)"
      ]
     },
     "execution_count": 5,
     "metadata": {},
     "output_type": "execute_result"
    }
   ],
   "source": [
    "labels_gender.shape"
   ]
  },
  {
   "cell_type": "code",
   "execution_count": 6,
   "metadata": {},
   "outputs": [
    {
     "data": {
      "text/plain": [
       "(13388, 128, 130, 1)"
      ]
     },
     "execution_count": 6,
     "metadata": {},
     "output_type": "execute_result"
    }
   ],
   "source": [
    "audio_data.shape"
   ]
  },
  {
   "cell_type": "code",
   "execution_count": 7,
   "metadata": {},
   "outputs": [],
   "source": [
    "X_train_g, X_test_g, y_train_g, y_test_g = train_test_split(audio_data, labels_gender, test_size=0.2, random_state=42)"
   ]
  },
  {
   "cell_type": "code",
   "execution_count": 8,
   "metadata": {},
   "outputs": [
    {
     "data": {
      "text/plain": [
       "array([0, 1], dtype=object)"
      ]
     },
     "execution_count": 8,
     "metadata": {},
     "output_type": "execute_result"
    }
   ],
   "source": [
    "y_train_g[0]"
   ]
  },
  {
   "cell_type": "code",
   "execution_count": 9,
   "metadata": {},
   "outputs": [
    {
     "name": "stdout",
     "output_type": "stream",
     "text": [
      "Model: \"sequential\"\n",
      "_________________________________________________________________\n",
      " Layer (type)                Output Shape              Param #   \n",
      "=================================================================\n",
      " conv2d (Conv2D)             (None, 126, 128, 32)      320       \n",
      "                                                                 \n",
      " max_pooling2d (MaxPooling2  (None, 63, 64, 32)        0         \n",
      " D)                                                              \n",
      "                                                                 \n",
      " conv2d_1 (Conv2D)           (None, 61, 62, 64)        18496     \n",
      "                                                                 \n",
      " max_pooling2d_1 (MaxPoolin  (None, 30, 31, 64)        0         \n",
      " g2D)                                                            \n",
      "                                                                 \n",
      " flatten (Flatten)           (None, 59520)             0         \n",
      "                                                                 \n",
      " dense (Dense)               (None, 64)                3809344   \n",
      "                                                                 \n",
      " dense_1 (Dense)             (None, 2)                 130       \n",
      "                                                                 \n",
      "=================================================================\n",
      "Total params: 3828290 (14.60 MB)\n",
      "Trainable params: 3828290 (14.60 MB)\n",
      "Non-trainable params: 0 (0.00 Byte)\n",
      "_________________________________________________________________\n"
     ]
    }
   ],
   "source": [
    "# Create a Sequential model_gender\n",
    "model_gender = models.Sequential()\n",
    "\n",
    "# Add a 2D convolutional layer with 32 filters, a 3x3 kernel, and 'relu' activation\n",
    "model_gender.add(layers.Conv2D(32, (3, 3), activation='relu', input_shape=(128, 130, 1)))\n",
    "\n",
    "# Add a max-pooling layer\n",
    "model_gender.add(layers.MaxPooling2D((2, 2)))\n",
    "\n",
    "# Add another 2D convolutional layer with 64 filters and 'relu' activation\n",
    "model_gender.add(layers.Conv2D(64, (3, 3), activation='relu'))\n",
    "\n",
    "# Add another max-pooling layer\n",
    "model_gender.add(layers.MaxPooling2D((2, 2)))\n",
    "\n",
    "# Add a flattening layer to convert to 1D tensor\n",
    "model_gender.add(layers.Flatten())\n",
    "\n",
    "# Add a fully connected (dense) layer with 64 units and 'relu' activation\n",
    "model_gender.add(layers.Dense(64, activation='relu'))\n",
    "\n",
    "# Add the output layer with 7 units (since you want 7 outputs) and 'softmax' activation\n",
    "model_gender.add(layers.Dense(2, activation='softmax'))\n",
    "\n",
    "# Compile the model_gender\n",
    "model_gender.compile(optimizer='adam',\n",
    "              loss='categorical_crossentropy',\n",
    "              metrics=['accuracy'])\n",
    "\n",
    "# Display the model_gender summary\n",
    "model_gender.summary()\n"
   ]
  },
  {
   "cell_type": "code",
   "execution_count": 10,
   "metadata": {},
   "outputs": [
    {
     "name": "stdout",
     "output_type": "stream",
     "text": [
      "Model: \"sequential_1\"\n",
      "_________________________________________________________________\n",
      " Layer (type)                Output Shape              Param #   \n",
      "=================================================================\n",
      " conv2d_2 (Conv2D)           (None, 126, 128, 32)      320       \n",
      "                                                                 \n",
      " max_pooling2d_2 (MaxPoolin  (None, 63, 64, 32)        0         \n",
      " g2D)                                                            \n",
      "                                                                 \n",
      " conv2d_3 (Conv2D)           (None, 61, 62, 64)        18496     \n",
      "                                                                 \n",
      " max_pooling2d_3 (MaxPoolin  (None, 30, 31, 64)        0         \n",
      " g2D)                                                            \n",
      "                                                                 \n",
      " flatten_1 (Flatten)         (None, 59520)             0         \n",
      "                                                                 \n",
      " dense_2 (Dense)             (None, 64)                3809344   \n",
      "                                                                 \n",
      " dropout (Dropout)           (None, 64)                0         \n",
      "                                                                 \n",
      " dense_3 (Dense)             (None, 2)                 130       \n",
      "                                                                 \n",
      "=================================================================\n",
      "Total params: 3828290 (14.60 MB)\n",
      "Trainable params: 3828290 (14.60 MB)\n",
      "Non-trainable params: 0 (0.00 Byte)\n",
      "_________________________________________________________________\n"
     ]
    }
   ],
   "source": [
    "# Create a Sequential model_gender_2\n",
    "model_gender_2 = models.Sequential()\n",
    "\n",
    "# Add a 2D convolutional layer with 32 filters, a 3x3 kernel, and 'relu' activation\n",
    "model_gender_2.add(layers.Conv2D(32, (3, 3), activation='relu', input_shape=(128, 130, 1)))\n",
    "\n",
    "# Add a max-pooling layer\n",
    "model_gender_2.add(layers.MaxPooling2D((2, 2)))\n",
    "\n",
    "# Add another 2D convolutional layer with 64 filters and 'relu' activation\n",
    "model_gender_2.add(layers.Conv2D(64, (3, 3), activation='relu'))\n",
    "\n",
    "# Add another max-pooling layer\n",
    "model_gender_2.add(layers.MaxPooling2D((2, 2)))\n",
    "\n",
    "# Add a flattening layer to convert to 1D tensor\n",
    "model_gender_2.add(layers.Flatten())\n",
    "\n",
    "# Add a fully connected (dense) layer with 64 units and 'relu' activation\n",
    "model_gender_2.add(layers.Dense(64, activation='relu'))\n",
    "\n",
    "model_gender_2.add(layers.Dropout(0.5))\n",
    "\n",
    "# Add the output layer with 7 units (since you want 7 outputs) and 'softmax' activation\n",
    "model_gender_2.add(layers.Dense(2, activation='softmax'))\n",
    "\n",
    "# Compile the model_gender_2\n",
    "model_gender_2.compile(optimizer='adam',\n",
    "              loss='categorical_crossentropy',\n",
    "              metrics=['accuracy'])\n",
    "\n",
    "# Display the model_gender_2 summary\n",
    "model_gender_2.summary()"
   ]
  },
  {
   "cell_type": "code",
   "execution_count": 11,
   "metadata": {},
   "outputs": [
    {
     "name": "stdout",
     "output_type": "stream",
     "text": [
      "Model: \"sequential_2\"\n",
      "_________________________________________________________________\n",
      " Layer (type)                Output Shape              Param #   \n",
      "=================================================================\n",
      " conv2d_4 (Conv2D)           (None, 126, 128, 64)      640       \n",
      "                                                                 \n",
      " max_pooling2d_4 (MaxPoolin  (None, 63, 64, 64)        0         \n",
      " g2D)                                                            \n",
      "                                                                 \n",
      " conv2d_5 (Conv2D)           (None, 59, 60, 128)       204928    \n",
      "                                                                 \n",
      " max_pooling2d_5 (MaxPoolin  (None, 29, 30, 128)       0         \n",
      " g2D)                                                            \n",
      "                                                                 \n",
      " flatten_2 (Flatten)         (None, 111360)            0         \n",
      "                                                                 \n",
      " dense_4 (Dense)             (None, 64)                7127104   \n",
      "                                                                 \n",
      " dense_5 (Dense)             (None, 2)                 130       \n",
      "                                                                 \n",
      "=================================================================\n",
      "Total params: 7332802 (27.97 MB)\n",
      "Trainable params: 7332802 (27.97 MB)\n",
      "Non-trainable params: 0 (0.00 Byte)\n",
      "_________________________________________________________________\n"
     ]
    }
   ],
   "source": [
    "# Create a Sequential model_gender_3\n",
    "model_gender_3 = models.Sequential()\n",
    "\n",
    "# Add a 2D convolutional layer with 32 filters, a 3x3 kernel, and 'relu' activation\n",
    "model_gender_3.add(layers.Conv2D(64, (3, 3), activation='relu', input_shape=(128, 130, 1)))\n",
    "\n",
    "# Add a max-pooling layer\n",
    "model_gender_3.add(layers.MaxPooling2D((2, 2)))\n",
    "\n",
    "# Add another 2D convolutional layer with 64 filters and 'relu' activation\n",
    "model_gender_3.add(layers.Conv2D(128, (5, 5), activation='relu'))\n",
    "\n",
    "# Add another max-pooling layer\n",
    "model_gender_3.add(layers.MaxPooling2D((2, 2)))\n",
    "\n",
    "# Add a flattening layer to convert to 1D tensor\n",
    "model_gender_3.add(layers.Flatten())\n",
    "\n",
    "# Add a fully connected (dense) layer with 64 units and 'relu' activation\n",
    "model_gender_3.add(layers.Dense(64, activation='relu'))\n",
    "\n",
    "# Add the output layer with 7 units (since you want 7 outputs) and 'softmax' activation\n",
    "model_gender_3.add(layers.Dense(2, activation='softmax'))\n",
    "\n",
    "# Compile the model_gender_3\n",
    "model_gender_3.compile(optimizer='adam',\n",
    "              loss='categorical_crossentropy',\n",
    "              metrics=['accuracy'])\n",
    "\n",
    "# Display the model_gender_3 summary\n",
    "model_gender_3.summary()"
   ]
  },
  {
   "cell_type": "code",
   "execution_count": 12,
   "metadata": {},
   "outputs": [
    {
     "name": "stdout",
     "output_type": "stream",
     "text": [
      "Model: \"sequential_3\"\n",
      "_________________________________________________________________\n",
      " Layer (type)                Output Shape              Param #   \n",
      "=================================================================\n",
      " conv2d_6 (Conv2D)           (None, 126, 128, 32)      320       \n",
      "                                                                 \n",
      " max_pooling2d_6 (MaxPoolin  (None, 63, 64, 32)        0         \n",
      " g2D)                                                            \n",
      "                                                                 \n",
      " conv2d_7 (Conv2D)           (None, 61, 62, 64)        18496     \n",
      "                                                                 \n",
      " max_pooling2d_7 (MaxPoolin  (None, 30, 31, 64)        0         \n",
      " g2D)                                                            \n",
      "                                                                 \n",
      " conv2d_8 (Conv2D)           (None, 26, 27, 128)       204928    \n",
      "                                                                 \n",
      " max_pooling2d_8 (MaxPoolin  (None, 13, 13, 128)       0         \n",
      " g2D)                                                            \n",
      "                                                                 \n",
      " flatten_3 (Flatten)         (None, 21632)             0         \n",
      "                                                                 \n",
      " dense_6 (Dense)             (None, 64)                1384512   \n",
      "                                                                 \n",
      " dense_7 (Dense)             (None, 32)                2080      \n",
      "                                                                 \n",
      " dense_8 (Dense)             (None, 2)                 66        \n",
      "                                                                 \n",
      "=================================================================\n",
      "Total params: 1610402 (6.14 MB)\n",
      "Trainable params: 1610402 (6.14 MB)\n",
      "Non-trainable params: 0 (0.00 Byte)\n",
      "_________________________________________________________________\n"
     ]
    }
   ],
   "source": [
    "# Create a Sequential model_gender_4\n",
    "model_gender_4 = models.Sequential()\n",
    "\n",
    "# Add a 2D convolutional layer with 32 filters, a 3x3 kernel, and 'relu' activation\n",
    "model_gender_4.add(layers.Conv2D(32, (3, 3), activation='relu', input_shape=(128, 130, 1)))\n",
    "\n",
    "# Add a max-pooling layer\n",
    "model_gender_4.add(layers.MaxPooling2D((2, 2)))\n",
    "\n",
    "# Add another 2D convolutional layer with 64 filters and 'relu' activation\n",
    "model_gender_4.add(layers.Conv2D(64, (3, 3), activation='relu'))\n",
    "\n",
    "# Add another max-pooling layer\n",
    "model_gender_4.add(layers.MaxPooling2D((2, 2)))\n",
    "\n",
    "# Add another 2D convolutional layer with 128 filters and 'relu' activation\n",
    "model_gender_4.add(layers.Conv2D(128, (5, 5), activation='relu'))\n",
    "\n",
    "# Add another max-pooling layer\n",
    "model_gender_4.add(layers.MaxPooling2D((2, 2)))\n",
    "\n",
    "# Add a flattening layer to convert to 1D tensor\n",
    "model_gender_4.add(layers.Flatten())\n",
    "\n",
    "# Add a fully connected (dense) layer with 64 units and 'relu' activation\n",
    "model_gender_4.add(layers.Dense(64, activation='relu'))\n",
    "\n",
    "model_gender_4.add(layers.Dense(32, activation='relu'))\n",
    "\n",
    "# Add the output layer with 7 units (since you want 7 outputs) and 'softmax' activation\n",
    "model_gender_4.add(layers.Dense(2, activation='softmax'))\n",
    "\n",
    "# Compile the model_gender_4\n",
    "model_gender_4.compile(optimizer='adam',\n",
    "              loss='categorical_crossentropy',\n",
    "              metrics=['accuracy'])\n",
    "\n",
    "# Display the model_gender_4 summary\n",
    "model_gender_4.summary()"
   ]
  },
  {
   "cell_type": "code",
   "execution_count": 13,
   "metadata": {},
   "outputs": [],
   "source": [
    "# Convert data types if needed\n",
    "X_train_g = np.asarray(X_train_g, dtype=np.float32)\n",
    "X_test_g = np.asarray(X_test_g, dtype=np.float32)\n",
    "y_train_g = np.asarray(y_train_g, dtype=np.float32)\n",
    "y_test_g = np.asarray(y_test_g, dtype=np.float32)"
   ]
  },
  {
   "cell_type": "code",
   "execution_count": 14,
   "metadata": {},
   "outputs": [],
   "source": [
    "# Save the array to a file\n",
    "np.save('X_train_gender.npy', X_train_g)\n",
    "np.save('X_test_gender.npy', X_test_g)\n",
    "np.save('y_train_gender.npy', y_train_g)\n",
    "np.save('y_test_gender.npy', y_test_g)"
   ]
  },
  {
   "cell_type": "code",
   "execution_count": 19,
   "metadata": {},
   "outputs": [],
   "source": [
    "# Train the model\n",
    "ep=3"
   ]
  },
  {
   "cell_type": "code",
   "execution_count": 20,
   "metadata": {},
   "outputs": [
    {
     "name": "stdout",
     "output_type": "stream",
     "text": [
      "Epoch 1/3\n",
      "335/335 [==============================] - 41s 122ms/step - loss: 841530496.0000 - accuracy: 0.5106 - val_loss: 1043209024.0000 - val_accuracy: 0.3521\n",
      "Epoch 2/3\n",
      "335/335 [==============================] - 42s 126ms/step - loss: 993301248.0000 - accuracy: 0.5158 - val_loss: 531745120.0000 - val_accuracy: 0.3521\n",
      "Epoch 3/3\n",
      "335/335 [==============================] - 43s 128ms/step - loss: 1307872000.0000 - accuracy: 0.5176 - val_loss: 226769440.0000 - val_accuracy: 0.3525\n"
     ]
    }
   ],
   "source": [
    "\n",
    "history_gender_1 = model_gender.fit(X_train_g, y_train_g, epochs=ep, validation_data=(X_test_g, y_test_g), batch_size=32)"
   ]
  },
  {
   "cell_type": "code",
   "execution_count": 21,
   "metadata": {},
   "outputs": [
    {
     "name": "stdout",
     "output_type": "stream",
     "text": [
      "Epoch 1/3\n",
      "335/335 [==============================] - 43s 128ms/step - loss: 133484336.0000 - accuracy: 0.5307 - val_loss: 65687700.0000 - val_accuracy: 0.6479\n",
      "Epoch 2/3\n",
      "335/335 [==============================] - 43s 127ms/step - loss: 173611776.0000 - accuracy: 0.5304 - val_loss: 84965000.0000 - val_accuracy: 0.3521\n",
      "Epoch 3/3\n",
      "335/335 [==============================] - 43s 128ms/step - loss: 259357584.0000 - accuracy: 0.5348 - val_loss: 285574464.0000 - val_accuracy: 0.3521\n"
     ]
    }
   ],
   "source": [
    "\n",
    "history_gender_2 = model_gender_2.fit(X_train_g, y_train_g, epochs=ep, validation_data=(X_test_g, y_test_g), batch_size=32)"
   ]
  },
  {
   "cell_type": "code",
   "execution_count": 22,
   "metadata": {},
   "outputs": [
    {
     "name": "stdout",
     "output_type": "stream",
     "text": [
      "Epoch 1/3\n",
      "335/335 [==============================] - 239s 712ms/step - loss: 303764288.0000 - accuracy: 0.5332 - val_loss: 386169600.0000 - val_accuracy: 0.6479\n",
      "Epoch 2/3\n",
      "335/335 [==============================] - 233s 694ms/step - loss: 300623456.0000 - accuracy: 0.5359 - val_loss: 272551904.0000 - val_accuracy: 0.6479\n",
      "Epoch 3/3\n",
      "335/335 [==============================] - 232s 693ms/step - loss: 471173216.0000 - accuracy: 0.5431 - val_loss: 28759096.0000 - val_accuracy: 0.6777\n"
     ]
    }
   ],
   "source": [
    "\n",
    "history_gender_3 = model_gender_3.fit(X_train_g, y_train_g, epochs=ep, validation_data=(X_test_g, y_test_g), batch_size=32)"
   ]
  },
  {
   "cell_type": "code",
   "execution_count": 23,
   "metadata": {},
   "outputs": [
    {
     "name": "stdout",
     "output_type": "stream",
     "text": [
      "Epoch 1/3\n",
      "335/335 [==============================] - 84s 251ms/step - loss: 15462355.0000 - accuracy: 0.5205 - val_loss: 40776320.0000 - val_accuracy: 0.6479\n",
      "Epoch 2/3\n",
      "335/335 [==============================] - 83s 247ms/step - loss: 2502004736.0000 - accuracy: 0.5232 - val_loss: 5791931904.0000 - val_accuracy: 0.6479\n",
      "Epoch 3/3\n",
      "335/335 [==============================] - 83s 249ms/step - loss: 41037045760.0000 - accuracy: 0.5190 - val_loss: 18001172480.0000 - val_accuracy: 0.3521\n"
     ]
    }
   ],
   "source": [
    "\n",
    "history_gender_4 = model_gender_4.fit(X_train_g, y_train_g, epochs=ep, validation_data=(X_test_g, y_test_g), batch_size=32)"
   ]
  },
  {
   "cell_type": "code",
   "execution_count": 24,
   "metadata": {},
   "outputs": [
    {
     "name": "stderr",
     "output_type": "stream",
     "text": [
      "/Library/Frameworks/Python.framework/Versions/3.11/lib/python3.11/site-packages/keras/src/engine/training.py:3079: UserWarning: You are saving your model as an HDF5 file via `model.save()`. This file format is considered legacy. We recommend using instead the native Keras format, e.g. `model.save('my_model.keras')`.\n",
      "  saving_api.save_model(\n"
     ]
    }
   ],
   "source": [
    "model_gender.save(\"models/genderModel.h5\")\n",
    "model_gender_2.save(\"models/genderModel2.h5\")\n",
    "model_gender_3.save(\"models/genderModel3.h5\")\n",
    "model_gender_4.save(\"models/genderModel4.h5\")"
   ]
  },
  {
   "cell_type": "code",
   "execution_count": 25,
   "metadata": {},
   "outputs": [],
   "source": [
    "import json\n",
    "\n",
    "# Save history to a JSON file\n",
    "with open('history_gender_1.json', 'w') as json_file:\n",
    "    json.dump(history_gender_1.history, json_file)\n",
    "\n",
    "\n",
    "with open('history_gender_2.json', 'w') as json_file:\n",
    "    json.dump(history_gender_1.history, json_file)\n",
    "\n",
    "\n",
    "with open('history_gender_3.json', 'w') as json_file:\n",
    "    json.dump(history_gender_1.history, json_file)\n",
    "\n",
    "\n",
    "with open('history_gender_4.json', 'w') as json_file:\n",
    "    json.dump(history_gender_1.history, json_file)"
   ]
  }
 ],
 "metadata": {
  "kernelspec": {
   "display_name": "Python 3",
   "language": "python",
   "name": "python3"
  },
  "language_info": {
   "codemirror_mode": {
    "name": "ipython",
    "version": 3
   },
   "file_extension": ".py",
   "mimetype": "text/x-python",
   "name": "python",
   "nbconvert_exporter": "python",
   "pygments_lexer": "ipython3",
   "version": "3.11.5"
  }
 },
 "nbformat": 4,
 "nbformat_minor": 2
}
