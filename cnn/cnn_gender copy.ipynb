{
 "cells": [
  {
   "cell_type": "code",
   "execution_count": 1,
   "metadata": {},
   "outputs": [],
   "source": [
    "import numpy as np\n",
    "from tensorflow.keras.models import load_model\n",
    "\n",
    "from tensorflow.keras import layers,models\n",
    "import librosa"
   ]
  },
  {
   "cell_type": "code",
   "execution_count": 2,
   "metadata": {},
   "outputs": [],
   "source": [
    "X_train_l = np.load('X_train_gender.npy')\n",
    "X_test_l = np.load('X_test_gender.npy')\n",
    "y_train_l = np.load('y_train_gender.npy')\n",
    "y_test_l = np.load('y_test_gender.npy')"
   ]
  },
  {
   "cell_type": "code",
   "execution_count": 7,
   "metadata": {},
   "outputs": [],
   "source": [
    "model_gender_4 = models.Sequential()\n",
    "\n",
    "model_gender_4.add(layers.Conv2D(64, (3, 3), activation='relu', input_shape=(128, 130, 1)))\n",
    "model_gender_4.add(layers.MaxPooling2D((2, 2)))\n",
    "\n",
    "model_gender_4.add(layers.Conv2D(128, (3, 3), activation='relu'))\n",
    "model_gender_4.add(layers.MaxPooling2D((2, 2)))\n",
    "\n",
    "\n",
    "model_gender_4.add(layers.Conv2D(256, (3, 3), activation='relu'))\n",
    "model_gender_4.add(layers.MaxPooling2D((2, 2)))\n",
    "\n",
    "model_gender_4.add(layers.Flatten())\n",
    "\n",
    "model_gender_4.add(layers.Dense(128, activation='relu'))\n",
    "model_gender_4.add(layers.BatchNormalization())\n",
    "model_gender_4.add(layers.Dense(64, activation='relu'))\n",
    "model_gender_4.add(layers.Dense(2, activation='softmax'))\n",
    "\n",
    "model_gender_4.compile(optimizer='adam',\n",
    "                       loss='categorical_crossentropy',\n",
    "                       metrics=['accuracy'])\n"
   ]
  },
  {
   "cell_type": "code",
   "execution_count": 8,
   "metadata": {},
   "outputs": [
    {
     "name": "stdout",
     "output_type": "stream",
     "text": [
      "335/335 [==============================] - 177s 528ms/step - loss: 0.4551 - accuracy: 0.7275 - val_loss: 1.3426 - val_accuracy: 0.3689\n"
     ]
    }
   ],
   "source": [
    "ep=1\n",
    "history_language = model_gender_4.fit(X_train_l, y_train_l, epochs=ep, validation_data=(X_test_l, y_test_l), batch_size=32)"
   ]
  },
  {
   "cell_type": "code",
   "execution_count": 42,
   "metadata": {},
   "outputs": [
    {
     "name": "stderr",
     "output_type": "stream",
     "text": [
      "/Library/Frameworks/Python.framework/Versions/3.11/lib/python3.11/site-packages/keras/src/engine/training.py:3079: UserWarning: You are saving your model as an HDF5 file via `model.save()`. This file format is considered legacy. We recommend using instead the native Keras format, e.g. `model.save('my_model.keras')`.\n",
      "  saving_api.save_model(\n"
     ]
    }
   ],
   "source": [
    "model_gender_4.save(\"models/genderModel3.1.h5\")"
   ]
  },
  {
   "cell_type": "code",
   "execution_count": 41,
   "metadata": {},
   "outputs": [],
   "source": [
    "import json\n",
    "\n",
    "# Save history to a JSON file\n",
    "with open('history_gender_3.1.json', 'w') as json_file:\n",
    "    json.dump(history_language.history, json_file)"
   ]
  },
  {
   "cell_type": "code",
   "execution_count": 55,
   "metadata": {},
   "outputs": [],
   "source": [
    "model_gender_4 = load_model(\"models/genderModel3.1.h5\") "
   ]
  },
  {
   "cell_type": "code",
   "execution_count": 56,
   "metadata": {},
   "outputs": [
    {
     "name": "stdout",
     "output_type": "stream",
     "text": [
      "(1, 128, 130, 1)\n"
     ]
    }
   ],
   "source": [
    "audio_file_path = '/Users/dheemankumar/github/audio-ai/female_eng.wav' # Adjust the path as needed\n",
    "audio, sample_rate = librosa.load(audio_file_path, sr=22050)  # Load audio with a sample rate of 22050\n",
    "\n",
    "mel_spectrogram = librosa.feature.melspectrogram(y=audio, sr=sample_rate)\n",
    "\n",
    "# Convert to decibels (log scale)\n",
    "mel_spectrogram_db = librosa.amplitude_to_db(mel_spectrogram, ref=np.max)\n",
    "\n",
    "mel_spectrogram_db_with_channel = np.expand_dims(mel_spectrogram_db, axis=-1)\n",
    "\n",
    "input_data = mel_spectrogram_db_with_channel.reshape(1, 128, 130, 1)\n",
    "# Append the processed audio data and label to the lists\n",
    "print(input_data.shape)"
   ]
  },
  {
   "cell_type": "code",
   "execution_count": 57,
   "metadata": {},
   "outputs": [
    {
     "name": "stdout",
     "output_type": "stream",
     "text": [
      "1/1 [==============================] - 0s 80ms/step\n"
     ]
    }
   ],
   "source": [
    "ans=model_gender_4.predict(input_data)"
   ]
  },
  {
   "cell_type": "code",
   "execution_count": 58,
   "metadata": {},
   "outputs": [],
   "source": [
    "male=ans[0][0]\n",
    "female=ans[0][1]"
   ]
  },
  {
   "cell_type": "code",
   "execution_count": 59,
   "metadata": {},
   "outputs": [
    {
     "name": "stdout",
     "output_type": "stream",
     "text": [
      "Gender : Female\n"
     ]
    }
   ],
   "source": [
    "if (male>(1.5*female)):\n",
    "    print(\"Gender : Male\")\n",
    "elif (female>(1.5*male)):\n",
    "    print(\"Gender : Female\")\n",
    "else:\n",
    "    print(\"not conform\")\n",
    "    "
   ]
  }
 ],
 "metadata": {
  "kernelspec": {
   "display_name": "Python 3",
   "language": "python",
   "name": "python3"
  },
  "language_info": {
   "codemirror_mode": {
    "name": "ipython",
    "version": 3
   },
   "file_extension": ".py",
   "mimetype": "text/x-python",
   "name": "python",
   "nbconvert_exporter": "python",
   "pygments_lexer": "ipython3",
   "version": "3.11.5"
  }
 },
 "nbformat": 4,
 "nbformat_minor": 2
}
