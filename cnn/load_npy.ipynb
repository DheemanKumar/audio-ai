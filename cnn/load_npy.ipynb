{
 "cells": [
  {
   "cell_type": "code",
   "execution_count": 1,
   "metadata": {},
   "outputs": [],
   "source": [
    "import pandas as pd\n",
    "import librosa\n",
    "import numpy as np\n",
    "from sklearn.model_selection import train_test_split\n",
    "from tqdm import tqdm\n",
    "\n",
    "import os \n",
    "os.chdir(\"../\")   # only run this ones else error will occur"
   ]
  },
  {
   "cell_type": "code",
   "execution_count": 2,
   "metadata": {},
   "outputs": [],
   "source": [
    "csv_file_path = 'csv/broken_3s_audio_data.csv'\n",
    "df = pd.read_csv(csv_file_path)"
   ]
  },
  {
   "cell_type": "code",
   "execution_count": 22,
   "metadata": {},
   "outputs": [
    {
     "name": "stderr",
     "output_type": "stream",
     "text": [
      "Processing audio files: 100%|██████████| 13388/13388 [02:23<00:00, 93.46it/s] \n"
     ]
    }
   ],
   "source": [
    "audio_data = []\n",
    "audio_data2 = []\n",
    "labels_language = []\n",
    "labels_noise=[]\n",
    "labels_gender = []\n",
    "\n",
    "# Step 2 and 3: Load audio files and process the data with a sample rate of 22050\n",
    "for index, row in tqdm(df.iterrows(), total=len(df), desc=\"Processing audio files\"):\n",
    "    audio_file_path = 'Audio folders/3sec_audio/' + row['name']  # Adjust the path as needed\n",
    "    audio, sample_rate = librosa.load(audio_file_path, sr=22050)  # Load audio with a sample rate of 22050\n",
    "\n",
    "    mel_spectrogram = librosa.feature.melspectrogram(y=audio, sr=sample_rate)\n",
    "\n",
    "    # Convert to decibels (log scale)\n",
    "    mel_spectrogram_db = librosa.amplitude_to_db(mel_spectrogram, ref=np.max)\n",
    "\n",
    "    mel_spectrogram_db_with_channel = np.expand_dims(mel_spectrogram_db, axis=-1)\n",
    "\n",
    "    # Append the processed audio data and label to the lists\n",
    "    audio_data.append(mel_spectrogram_db_with_channel)\n",
    "\n",
    "\n",
    "    labels_noise.append(row[[\"noise\"]])\n",
    "    \n",
    "    if row[\"noise\"] == 0:\n",
    "        audio_data2.append(mel_spectrogram_db_with_channel)\n",
    "        labels_language.append(row[[\"english\",\"hindi\",\"punjabi\",\"bangoli\"]])\n",
    "        labels_gender.append(row[['male','female']])"
   ]
  },
  {
   "cell_type": "code",
   "execution_count": 23,
   "metadata": {},
   "outputs": [],
   "source": [
    "# Step 4: Create NumPy arrays\n",
    "audio_data = np.array(audio_data)\n",
    "audio_data2 = np.array(audio_data2)\n",
    "labels_language = np.array(labels_language)\n",
    "labels_gender = np.array(labels_gender)\n",
    "labels_noise = np.array(labels_noise)"
   ]
  },
  {
   "cell_type": "code",
   "execution_count": 24,
   "metadata": {},
   "outputs": [],
   "source": [
    "X_train_l, X_test_l, y_train_l, y_test_l = train_test_split(audio_data2, labels_language, test_size=0.2, random_state=42)\n",
    "X_train_g, X_test_g, y_train_g, y_test_g = train_test_split(audio_data2, labels_gender, test_size=0.2, random_state=42)\n",
    "X_train_n, X_test_n, y_train_n, y_test_n = train_test_split(audio_data, labels_noise, test_size=0.2, random_state=42)"
   ]
  },
  {
   "cell_type": "code",
   "execution_count": 25,
   "metadata": {},
   "outputs": [],
   "source": [
    "# Convert data types if needed\n",
    "X_train_l = np.asarray(X_train_l, dtype=np.float32)\n",
    "X_test_l = np.asarray(X_test_l, dtype=np.float32)\n",
    "y_train_l = np.asarray(y_train_l, dtype=np.float32)\n",
    "y_test_l = np.asarray(y_test_l, dtype=np.float32)"
   ]
  },
  {
   "cell_type": "code",
   "execution_count": 26,
   "metadata": {},
   "outputs": [],
   "source": [
    "X_train_g = np.asarray(X_train_g, dtype=np.float32)\n",
    "X_test_g = np.asarray(X_test_g, dtype=np.float32)\n",
    "y_train_g = np.asarray(y_train_g, dtype=np.float32)\n",
    "y_test_g = np.asarray(y_test_g, dtype=np.float32)"
   ]
  },
  {
   "cell_type": "code",
   "execution_count": 27,
   "metadata": {},
   "outputs": [],
   "source": [
    "X_train_n = np.asarray(X_train_n, dtype=np.float32)\n",
    "X_test_n = np.asarray(X_test_n, dtype=np.float32)\n",
    "y_train_n = np.asarray(y_train_n, dtype=np.float32)\n",
    "y_test_n = np.asarray(y_test_n, dtype=np.float32)"
   ]
  },
  {
   "cell_type": "code",
   "execution_count": 28,
   "metadata": {},
   "outputs": [],
   "source": [
    "# Save the array to a file\n",
    "np.save('private/npy/X_train_language.npy', X_train_l)\n",
    "np.save('private/npy/X_test_language.npy', X_test_l)\n",
    "np.save('private/npy/y_train_language.npy', y_train_l)\n",
    "np.save('private/npy/y_test_language.npy', y_test_l)"
   ]
  },
  {
   "cell_type": "code",
   "execution_count": 29,
   "metadata": {},
   "outputs": [],
   "source": [
    "# Save the array to a file\n",
    "np.save('private/npy/X_train_gender.npy', X_train_g)\n",
    "np.save('private/npy/X_test_gender.npy', X_test_g)\n",
    "np.save('private/npy/y_train_gender.npy', y_train_g)\n",
    "np.save('private/npy/y_test_gender.npy', y_test_g)"
   ]
  },
  {
   "cell_type": "code",
   "execution_count": 30,
   "metadata": {},
   "outputs": [],
   "source": [
    "# Save the array to a file\n",
    "np.save('private/npy/X_train_noise.npy', X_train_n)\n",
    "np.save('private/npy/X_test_noise.npy', X_test_n)\n",
    "np.save('private/npy/y_train_noise.npy', y_train_n)\n",
    "np.save('private/npy/y_test_noise.npy', y_test_n)"
   ]
  }
 ],
 "metadata": {
  "kernelspec": {
   "display_name": "Python 3",
   "language": "python",
   "name": "python3"
  },
  "language_info": {
   "codemirror_mode": {
    "name": "ipython",
    "version": 3
   },
   "file_extension": ".py",
   "mimetype": "text/x-python",
   "name": "python",
   "nbconvert_exporter": "python",
   "pygments_lexer": "ipython3",
   "version": "3.11.5"
  }
 },
 "nbformat": 4,
 "nbformat_minor": 2
}
