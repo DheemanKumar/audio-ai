{
 "cells": [
  {
   "cell_type": "markdown",
   "metadata": {},
   "source": [
    "# This notebook check gender classifier at different depth of conv layer"
   ]
  },
  {
   "cell_type": "code",
   "execution_count": 1,
   "metadata": {},
   "outputs": [
    {
     "name": "stdout",
     "output_type": "stream",
     "text": [
      "TensorFlow has access to the following devices:\n",
      "[PhysicalDevice(name='/physical_device:CPU:0', device_type='CPU'), PhysicalDevice(name='/physical_device:GPU:0', device_type='GPU')]\n",
      "TensorFlow version: 2.13.0\n"
     ]
    }
   ],
   "source": [
    "\n",
    "import tensorflow as tf\n",
    "\n",
    "# Check for TensorFlow GPU access\n",
    "print(f\"TensorFlow has access to the following devices:\\n{tf.config.list_physical_devices()}\")\n",
    "\n",
    "# See TensorFlow version\n",
    "print(f\"TensorFlow version: {tf.__version__}\")"
   ]
  },
  {
   "cell_type": "code",
   "execution_count": 2,
   "metadata": {},
   "outputs": [],
   "source": [
    "from os import chdir\n",
    "chdir(\"../\")   # only run this ones else error will occur\n"
   ]
  },
  {
   "cell_type": "code",
   "execution_count": 1,
   "metadata": {},
   "outputs": [],
   "source": [
    "import numpy as np\n",
    "\n",
    "from tensorflow.keras import layers,models\n",
    "import matplotlib.pyplot as plt\n",
    "from IPython.display import clear_output\n",
    "\n",
    "from datetime import datetime"
   ]
  },
  {
   "cell_type": "code",
   "execution_count": 11,
   "metadata": {},
   "outputs": [],
   "source": [
    "X_train_l = np.load('private/npy/X_train_gender.npy')\n",
    "X_test_l = np.load('private/npy/X_test_gender.npy')\n",
    "y_train_l = np.load('private/npy/y_train_gender.npy')\n",
    "y_test_l = np.load('private/npy/y_test_gender.npy')"
   ]
  },
  {
   "cell_type": "code",
   "execution_count": null,
   "metadata": {},
   "outputs": [],
   "source": [
    "# Select 25% of the data randomly\n",
    "num_samples_train = int(0.25 * len(X_train_l))\n",
    "num_samples_test = int(0.25 * len(X_test_l))\n",
    "\n",
    "# Randomly select indices\n",
    "indices_train = np.random.choice(len(X_train_l), num_samples_train, replace=False)\n",
    "indices_test = np.random.choice(len(X_test_l), num_samples_test, replace=False)\n",
    "\n",
    "# Select data based on random indices\n",
    "X_train_l = X_train_l[indices_train]\n",
    "y_train_l = y_train_l[indices_train]\n",
    "X_test_l = X_test_l[indices_test]\n",
    "y_test_l = y_test_l[indices_test]"
   ]
  },
  {
   "cell_type": "code",
   "execution_count": 2,
   "metadata": {},
   "outputs": [],
   "source": [
    "def create_model(depth):\n",
    "    model = models.Sequential()\n",
    "    model.add(layers.Conv2D(64, (3, 3), activation='relu', input_shape=(128, 130, 1)))\n",
    "    model.add(layers.MaxPooling2D((2, 2)))\n",
    "\n",
    "    for _ in range(depth):  \n",
    "        model.add(layers.Conv2D(64, (3, 3), activation='relu'))\n",
    "        model.add(layers.MaxPooling2D((2, 2)))\n",
    "\n",
    "    model.add(layers.Flatten())\n",
    "    model.add(layers.Dense(128, activation='relu'))\n",
    "    model.add(layers.Dense(2, activation='softmax'))\n",
    "\n",
    "    model.compile(optimizer='adam',\n",
    "                  loss='categorical_crossentropy',\n",
    "                  metrics=['accuracy'])\n",
    "\n",
    "\n",
    "    return model\n"
   ]
  },
  {
   "cell_type": "code",
   "execution_count": 3,
   "metadata": {},
   "outputs": [
    {
     "name": "stderr",
     "output_type": "stream",
     "text": [
      "2024-03-16 23:04:08.942748: I metal_plugin/src/device/metal_device.cc:1154] Metal device set to: Apple M1\n",
      "2024-03-16 23:04:08.942885: I metal_plugin/src/device/metal_device.cc:296] systemMemory: 8.00 GB\n",
      "2024-03-16 23:04:08.942895: I metal_plugin/src/device/metal_device.cc:313] maxCacheSize: 2.67 GB\n",
      "2024-03-16 23:04:08.943508: I tensorflow/core/common_runtime/pluggable_device/pluggable_device_factory.cc:303] Could not identify NUMA node of platform GPU ID 0, defaulting to 0. Your kernel may not have been built with NUMA support.\n",
      "2024-03-16 23:04:08.943854: I tensorflow/core/common_runtime/pluggable_device/pluggable_device_factory.cc:269] Created TensorFlow device (/job:localhost/replica:0/task:0/device:GPU:0 with 0 MB memory) -> physical PluggableDevice (device: 0, name: METAL, pci bus id: <undefined>)\n"
     ]
    }
   ],
   "source": [
    "model=create_model(1)\n"
   ]
  },
  {
   "cell_type": "code",
   "execution_count": 5,
   "metadata": {},
   "outputs": [
    {
     "name": "stdout",
     "output_type": "stream",
     "text": [
      "Model: \"sequential\"\n",
      "_________________________________________________________________\n",
      " Layer (type)                Output Shape              Param #   \n",
      "=================================================================\n",
      " conv2d (Conv2D)             (None, 126, 128, 64)      640       \n",
      "                                                                 \n",
      " max_pooling2d (MaxPooling2  (None, 63, 64, 64)        0         \n",
      " D)                                                              \n",
      "                                                                 \n",
      " conv2d_1 (Conv2D)           (None, 61, 62, 64)        36928     \n",
      "                                                                 \n",
      " max_pooling2d_1 (MaxPoolin  (None, 30, 31, 64)        0         \n",
      " g2D)                                                            \n",
      "                                                                 \n",
      " flatten (Flatten)           (None, 59520)             0         \n",
      "                                                                 \n",
      " dense (Dense)               (None, 128)               7618688   \n",
      "                                                                 \n",
      " dense_1 (Dense)             (None, 2)                 258       \n",
      "                                                                 \n",
      "=================================================================\n",
      "Total params: 7656514 (29.21 MB)\n",
      "Trainable params: 7656514 (29.21 MB)\n",
      "Non-trainable params: 0 (0.00 Byte)\n",
      "_________________________________________________________________\n"
     ]
    }
   ],
   "source": [
    "model.summary()"
   ]
  },
  {
   "cell_type": "code",
   "execution_count": 44,
   "metadata": {},
   "outputs": [],
   "source": [
    "def create_model(depth):\n",
    "    model = models.Sequential()\n",
    "    model.add(layers.Conv2D(64, (3, 3), activation='relu', input_shape=(128, 130, 1)))\n",
    "    print(\"Layer 1 - Conv2D Output Shape:\", model.output_shape)  # Print size after first layer\n",
    "    model.add(layers.MaxPooling2D((2, 2)))\n",
    "\n",
    "    for i in range(depth):\n",
    "        model.add(layers.Conv2D(124, (3, 3), activation='relu'))\n",
    "        print(f\"Layer {i+2} - Conv2D Output Shape:\", model.output_shape)  # Print size after each Conv2D layer\n",
    "        model.add(layers.MaxPooling2D((2, 2)))\n",
    "        print(f\"Layer {i+2} - MaxPooling2D Output Shape:\", model.output_shape)  # Print size after each MaxPooling2D layer\n",
    "\n",
    "    model.add(layers.Flatten())\n",
    "    print(\"Layer FLATTEN Output Shape:\", model.output_shape)  # Print size after flattening layer\n",
    "    model.add(layers.Dense(128, activation='relu'))\n",
    "    print(\"Layer DENSE Output Shape:\", model.output_shape)  # Print size after dense layer\n",
    "    model.add(layers.Dense(2, activation='softmax'))\n",
    "\n",
    "    model.compile(optimizer='adam',\n",
    "                  loss='categorical_crossentropy',\n",
    "                  metrics=['accuracy'])\n",
    "\n",
    "    return model\n"
   ]
  },
  {
   "cell_type": "code",
   "execution_count": 48,
   "metadata": {},
   "outputs": [
    {
     "name": "stdout",
     "output_type": "stream",
     "text": [
      "Layer 1 - Conv2D Output Shape: (None, 126, 128, 64)\n",
      "Padding: valid\n",
      "Stride: (1, 1)\n",
      "Layer 2 - MaxPooling2D Output Shape: (None, 63, 64, 64)\n",
      "Pool Size: (2, 2)\n",
      "Layer 2 - Conv2D Output Shape: (None, 61, 62, 64)\n",
      "Padding: valid\n",
      "Stride: (1, 1)\n",
      "Layer 2 - MaxPooling2D Output Shape: (None, 30, 31, 64)\n",
      "Pool Size: (2, 2)\n",
      "Layer 3 - Conv2D Output Shape: (None, 28, 29, 64)\n",
      "Padding: valid\n",
      "Stride: (1, 1)\n",
      "Layer 3 - MaxPooling2D Output Shape: (None, 14, 14, 64)\n",
      "Pool Size: (2, 2)\n",
      "Layer 4 - Conv2D Output Shape: (None, 12, 12, 64)\n",
      "Padding: valid\n",
      "Stride: (1, 1)\n",
      "Layer 4 - MaxPooling2D Output Shape: (None, 6, 6, 64)\n",
      "Pool Size: (2, 2)\n",
      "Layer FLATTEN Output Shape: (None, 2304)\n",
      "Layer DENSE Output Shape: (None, 128)\n"
     ]
    }
   ],
   "source": [
    "def create_model(depth):\n",
    "    model = models.Sequential()\n",
    "    model.add(layers.Conv2D(64, (3, 3), activation='relu', input_shape=(128, 130, 1)))\n",
    "    print(\"Layer 1 - Conv2D Output Shape:\", model.output_shape)  # Print size after first layer\n",
    "    print(\"Padding:\", model.layers[-1].padding)\n",
    "    print(\"Stride:\", model.layers[-1].strides)\n",
    "    model.add(layers.MaxPooling2D((2, 2)))\n",
    "    print(\"Layer 2 - MaxPooling2D Output Shape:\", model.output_shape)  # Print size after first MaxPooling2D layer\n",
    "    print(\"Pool Size:\", model.layers[-1].pool_size)\n",
    "\n",
    "    for i in range(depth):\n",
    "        model.add(layers.Conv2D(64, (3, 3), activation='relu'))\n",
    "        print(f\"Layer {i+2} - Conv2D Output Shape:\", model.output_shape)  # Print size after each Conv2D layer\n",
    "        print(\"Padding:\", model.layers[-1].padding)\n",
    "        print(\"Stride:\", model.layers[-1].strides)\n",
    "        model.add(layers.MaxPooling2D((2, 2)))\n",
    "        print(f\"Layer {i+2} - MaxPooling2D Output Shape:\", model.output_shape)  # Print size after each MaxPooling2D layer\n",
    "        print(\"Pool Size:\", model.layers[-1].pool_size)\n",
    "\n",
    "    model.add(layers.Flatten())\n",
    "    print(\"Layer FLATTEN Output Shape:\", model.output_shape)  # Print size after flattening layer\n",
    "    model.add(layers.Dense(128, activation='relu'))\n",
    "    print(\"Layer DENSE Output Shape:\", model.output_shape)  # Print size after dense layer\n",
    "    model.add(layers.Dense(2, activation='softmax'))\n",
    "\n",
    "    model.compile(optimizer='adam',\n",
    "                  loss='categorical_crossentropy',\n",
    "                  metrics=['accuracy'])\n",
    "\n",
    "    return model\n",
    "\n",
    "# Example usage\n",
    "depth = 3  # You can adjust the depth as needed\n",
    "model = create_model(depth)\n"
   ]
  },
  {
   "cell_type": "code",
   "execution_count": 45,
   "metadata": {},
   "outputs": [
    {
     "name": "stdout",
     "output_type": "stream",
     "text": [
      "Layer 1 - Conv2D Output Shape: (None, 126, 128, 64)\n",
      "Layer 2 - Conv2D Output Shape: (None, 61, 62, 124)\n",
      "Layer 2 - MaxPooling2D Output Shape: (None, 30, 31, 124)\n",
      "Layer 3 - Conv2D Output Shape: (None, 28, 29, 124)\n",
      "Layer 3 - MaxPooling2D Output Shape: (None, 14, 14, 124)\n",
      "Layer 4 - Conv2D Output Shape: (None, 12, 12, 124)\n",
      "Layer 4 - MaxPooling2D Output Shape: (None, 6, 6, 124)\n",
      "Layer 5 - Conv2D Output Shape: (None, 4, 4, 124)\n",
      "Layer 5 - MaxPooling2D Output Shape: (None, 2, 2, 124)\n",
      "Layer FLATTEN Output Shape: (None, 496)\n",
      "Layer DENSE Output Shape: (None, 128)\n"
     ]
    }
   ],
   "source": [
    "model = create_model(4)"
   ]
  },
  {
   "cell_type": "code",
   "execution_count": 43,
   "metadata": {},
   "outputs": [
    {
     "name": "stdout",
     "output_type": "stream",
     "text": [
      "Layer 1 - Conv2D Output Shape: (None, 126, 128, 64)\n",
      "Layer 2 - Conv2D Output Shape: (None, 61, 62, 64)\n",
      "Layer 2 - MaxPooling2D Output Shape: (None, 30, 31, 64)\n",
      "Layer 3 - Conv2D Output Shape: (None, 28, 29, 64)\n",
      "Layer 3 - MaxPooling2D Output Shape: (None, 14, 14, 64)\n",
      "Layer 4 - Conv2D Output Shape: (None, 12, 12, 64)\n",
      "Layer 4 - MaxPooling2D Output Shape: (None, 6, 6, 64)\n",
      "Layer 5 - Conv2D Output Shape: (None, 4, 4, 64)\n",
      "Layer 5 - MaxPooling2D Output Shape: (None, 2, 2, 64)\n"
     ]
    },
    {
     "ename": "ValueError",
     "evalue": "Exception encountered when calling layer \"conv2d_110\" (type Conv2D).\n\nNegative dimension size caused by subtracting 3 from 2 for '{{node conv2d_110/Conv2D}} = Conv2D[T=DT_FLOAT, data_format=\"NHWC\", dilations=[1, 1, 1, 1], explicit_paddings=[], padding=\"VALID\", strides=[1, 1, 1, 1], use_cudnn_on_gpu=true](Placeholder, conv2d_110/Conv2D/ReadVariableOp)' with input shapes: [?,2,2,64], [3,3,64,64].\n\nCall arguments received by layer \"conv2d_110\" (type Conv2D):\n  • inputs=tf.Tensor(shape=(None, 2, 2, 64), dtype=float32)",
     "output_type": "error",
     "traceback": [
      "\u001b[0;31m---------------------------------------------------------------------------\u001b[0m",
      "\u001b[0;31mValueError\u001b[0m                                Traceback (most recent call last)",
      "Cell \u001b[0;32mIn[43], line 1\u001b[0m\n\u001b[0;32m----> 1\u001b[0m model \u001b[38;5;241m=\u001b[39m \u001b[43mcreate_model\u001b[49m\u001b[43m(\u001b[49m\u001b[38;5;241;43m5\u001b[39;49m\u001b[43m)\u001b[49m\n",
      "Cell \u001b[0;32mIn[41], line 8\u001b[0m, in \u001b[0;36mcreate_model\u001b[0;34m(depth)\u001b[0m\n\u001b[1;32m      5\u001b[0m model\u001b[38;5;241m.\u001b[39madd(layers\u001b[38;5;241m.\u001b[39mMaxPooling2D((\u001b[38;5;241m2\u001b[39m, \u001b[38;5;241m2\u001b[39m)))\n\u001b[1;32m      7\u001b[0m \u001b[38;5;28;01mfor\u001b[39;00m i \u001b[38;5;129;01min\u001b[39;00m \u001b[38;5;28mrange\u001b[39m(depth):\n\u001b[0;32m----> 8\u001b[0m     \u001b[43mmodel\u001b[49m\u001b[38;5;241;43m.\u001b[39;49m\u001b[43madd\u001b[49m\u001b[43m(\u001b[49m\u001b[43mlayers\u001b[49m\u001b[38;5;241;43m.\u001b[39;49m\u001b[43mConv2D\u001b[49m\u001b[43m(\u001b[49m\u001b[38;5;241;43m64\u001b[39;49m\u001b[43m,\u001b[49m\u001b[43m \u001b[49m\u001b[43m(\u001b[49m\u001b[38;5;241;43m3\u001b[39;49m\u001b[43m,\u001b[49m\u001b[43m \u001b[49m\u001b[38;5;241;43m3\u001b[39;49m\u001b[43m)\u001b[49m\u001b[43m,\u001b[49m\u001b[43m \u001b[49m\u001b[43mactivation\u001b[49m\u001b[38;5;241;43m=\u001b[39;49m\u001b[38;5;124;43m'\u001b[39;49m\u001b[38;5;124;43mrelu\u001b[39;49m\u001b[38;5;124;43m'\u001b[39;49m\u001b[43m)\u001b[49m\u001b[43m)\u001b[49m\n\u001b[1;32m      9\u001b[0m     \u001b[38;5;28mprint\u001b[39m(\u001b[38;5;124mf\u001b[39m\u001b[38;5;124m\"\u001b[39m\u001b[38;5;124mLayer \u001b[39m\u001b[38;5;132;01m{\u001b[39;00mi\u001b[38;5;241m+\u001b[39m\u001b[38;5;241m2\u001b[39m\u001b[38;5;132;01m}\u001b[39;00m\u001b[38;5;124m - Conv2D Output Shape:\u001b[39m\u001b[38;5;124m\"\u001b[39m, model\u001b[38;5;241m.\u001b[39moutput_shape)  \u001b[38;5;66;03m# Print size after each Conv2D layer\u001b[39;00m\n\u001b[1;32m     10\u001b[0m     model\u001b[38;5;241m.\u001b[39madd(layers\u001b[38;5;241m.\u001b[39mMaxPooling2D((\u001b[38;5;241m2\u001b[39m, \u001b[38;5;241m2\u001b[39m)))\n",
      "File \u001b[0;32m~/tensorflow-env/env/lib/python3.8/site-packages/tensorflow/python/trackable/base.py:204\u001b[0m, in \u001b[0;36mno_automatic_dependency_tracking.<locals>._method_wrapper\u001b[0;34m(self, *args, **kwargs)\u001b[0m\n\u001b[1;32m    202\u001b[0m \u001b[38;5;28mself\u001b[39m\u001b[38;5;241m.\u001b[39m_self_setattr_tracking \u001b[38;5;241m=\u001b[39m \u001b[38;5;28;01mFalse\u001b[39;00m  \u001b[38;5;66;03m# pylint: disable=protected-access\u001b[39;00m\n\u001b[1;32m    203\u001b[0m \u001b[38;5;28;01mtry\u001b[39;00m:\n\u001b[0;32m--> 204\u001b[0m   result \u001b[38;5;241m=\u001b[39m \u001b[43mmethod\u001b[49m\u001b[43m(\u001b[49m\u001b[38;5;28;43mself\u001b[39;49m\u001b[43m,\u001b[49m\u001b[43m \u001b[49m\u001b[38;5;241;43m*\u001b[39;49m\u001b[43margs\u001b[49m\u001b[43m,\u001b[49m\u001b[43m \u001b[49m\u001b[38;5;241;43m*\u001b[39;49m\u001b[38;5;241;43m*\u001b[39;49m\u001b[43mkwargs\u001b[49m\u001b[43m)\u001b[49m\n\u001b[1;32m    205\u001b[0m \u001b[38;5;28;01mfinally\u001b[39;00m:\n\u001b[1;32m    206\u001b[0m   \u001b[38;5;28mself\u001b[39m\u001b[38;5;241m.\u001b[39m_self_setattr_tracking \u001b[38;5;241m=\u001b[39m previous_value  \u001b[38;5;66;03m# pylint: disable=protected-access\u001b[39;00m\n",
      "File \u001b[0;32m~/tensorflow-env/env/lib/python3.8/site-packages/keras/src/utils/traceback_utils.py:70\u001b[0m, in \u001b[0;36mfilter_traceback.<locals>.error_handler\u001b[0;34m(*args, **kwargs)\u001b[0m\n\u001b[1;32m     67\u001b[0m     filtered_tb \u001b[38;5;241m=\u001b[39m _process_traceback_frames(e\u001b[38;5;241m.\u001b[39m__traceback__)\n\u001b[1;32m     68\u001b[0m     \u001b[38;5;66;03m# To get the full stack trace, call:\u001b[39;00m\n\u001b[1;32m     69\u001b[0m     \u001b[38;5;66;03m# `tf.debugging.disable_traceback_filtering()`\u001b[39;00m\n\u001b[0;32m---> 70\u001b[0m     \u001b[38;5;28;01mraise\u001b[39;00m e\u001b[38;5;241m.\u001b[39mwith_traceback(filtered_tb) \u001b[38;5;28;01mfrom\u001b[39;00m \u001b[38;5;28;01mNone\u001b[39;00m\n\u001b[1;32m     71\u001b[0m \u001b[38;5;28;01mfinally\u001b[39;00m:\n\u001b[1;32m     72\u001b[0m     \u001b[38;5;28;01mdel\u001b[39;00m filtered_tb\n",
      "File \u001b[0;32m~/tensorflow-env/env/lib/python3.8/site-packages/tensorflow/python/framework/ops.py:1751\u001b[0m, in \u001b[0;36m_create_c_op\u001b[0;34m(graph, node_def, inputs, control_inputs, op_def, extract_traceback)\u001b[0m\n\u001b[1;32m   1748\u001b[0m   c_op \u001b[38;5;241m=\u001b[39m pywrap_tf_session\u001b[38;5;241m.\u001b[39mTF_FinishOperation(op_desc)\n\u001b[1;32m   1749\u001b[0m \u001b[38;5;28;01mexcept\u001b[39;00m errors\u001b[38;5;241m.\u001b[39mInvalidArgumentError \u001b[38;5;28;01mas\u001b[39;00m e:\n\u001b[1;32m   1750\u001b[0m   \u001b[38;5;66;03m# Convert to ValueError for backwards compatibility.\u001b[39;00m\n\u001b[0;32m-> 1751\u001b[0m   \u001b[38;5;28;01mraise\u001b[39;00m \u001b[38;5;167;01mValueError\u001b[39;00m(e\u001b[38;5;241m.\u001b[39mmessage)\n\u001b[1;32m   1753\u001b[0m \u001b[38;5;66;03m# Record the current Python stack trace as the creating stacktrace of this\u001b[39;00m\n\u001b[1;32m   1754\u001b[0m \u001b[38;5;66;03m# TF_Operation.\u001b[39;00m\n\u001b[1;32m   1755\u001b[0m \u001b[38;5;28;01mif\u001b[39;00m extract_traceback:\n",
      "\u001b[0;31mValueError\u001b[0m: Exception encountered when calling layer \"conv2d_110\" (type Conv2D).\n\nNegative dimension size caused by subtracting 3 from 2 for '{{node conv2d_110/Conv2D}} = Conv2D[T=DT_FLOAT, data_format=\"NHWC\", dilations=[1, 1, 1, 1], explicit_paddings=[], padding=\"VALID\", strides=[1, 1, 1, 1], use_cudnn_on_gpu=true](Placeholder, conv2d_110/Conv2D/ReadVariableOp)' with input shapes: [?,2,2,64], [3,3,64,64].\n\nCall arguments received by layer \"conv2d_110\" (type Conv2D):\n  • inputs=tf.Tensor(shape=(None, 2, 2, 64), dtype=float32)"
     ]
    }
   ],
   "source": [
    "model = create_model(5)"
   ]
  },
  {
   "cell_type": "code",
   "execution_count": null,
   "metadata": {},
   "outputs": [],
   "source": []
  },
  {
   "cell_type": "code",
   "execution_count": 24,
   "metadata": {},
   "outputs": [],
   "source": [
    "def train_models(depths, epochs,iterations):\n",
    "    T1=datetime.now()\n",
    "    index=0  #used in \"Estimated Time Required :\" to keep time record\n",
    "\n",
    "    validation_accuracies = []\n",
    "    for i in range(iterations):\n",
    "\n",
    "        validation_accuracie=[]\n",
    "        for depth in depths:\n",
    "            print(\"Iteration :\",i+1)\n",
    "            print(\"Training model of depth :\",depth)\n",
    "            t1=datetime.now()   \n",
    "\n",
    "\n",
    "            # Create model\n",
    "            model = create_model(depth)\n",
    "            # Train model\n",
    "            history = model.fit(X_train_l, y_train_l, epochs=epochs, validation_data=(X_test_l, y_test_l), batch_size=64,verbose=1)\n",
    "            # Record validation accuracy\n",
    "            validation_accuracie.append(history.history['val_accuracy'])\n",
    "\n",
    "\n",
    "            t2=datetime.now()   \n",
    "            clear_output(wait=False)\n",
    "\n",
    "            index+=1\n",
    "            print(\"Estimated Time Required :\",int((t2-t1).seconds)*((len(depths)*iterations)-index)/60,\" min\")\n",
    "\n",
    "        validation_accuracies.append(validation_accuracie)\n",
    "\n",
    "    T2=datetime.now()\n",
    "    clear_output(wait=False)\n",
    "    print(\"Time taken :\",(T2-T1).seconds,\"s\")\n",
    "\n",
    "    return validation_accuracies\n"
   ]
  },
  {
   "cell_type": "code",
   "execution_count": null,
   "metadata": {},
   "outputs": [],
   "source": [
    "depths = [5] \n",
    "epochs = 10\n",
    "iteration=25\n",
    "\n",
    "# Train models and save validation accuracies\n",
    "validation_accuracies=train_models(depths, epochs,iteration)\n"
   ]
  },
  {
   "cell_type": "code",
   "execution_count": 9,
   "metadata": {},
   "outputs": [],
   "source": [
    "combined_array = np.array(validation_accuracies)"
   ]
  },
  {
   "cell_type": "code",
   "execution_count": null,
   "metadata": {},
   "outputs": [],
   "source": [
    "combined_array"
   ]
  },
  {
   "cell_type": "code",
   "execution_count": 10,
   "metadata": {},
   "outputs": [
    {
     "name": "stdout",
     "output_type": "stream",
     "text": [
      "Average of each column: [[0.57524126 0.59587355 0.6266223  0.65317804 0.64246257 0.65584027\n",
      "  0.65650583 0.65610649 0.67673877 0.681797  ]\n",
      " [0.51321131 0.54009984 0.53950083 0.57158069 0.58795341 0.61410981\n",
      "  0.63274543 0.66775374 0.64126456 0.6899168 ]\n",
      " [0.53863561 0.58835275 0.61783694 0.63727122 0.67467554 0.70442595\n",
      "  0.74262894 0.76219633 0.77264559 0.79307819]\n",
      " [0.58349418 0.59347754 0.61916805 0.67860233 0.71620632 0.75880199\n",
      "  0.77970049 0.80772046 0.84579035 0.8604326 ]]\n"
     ]
    }
   ],
   "source": [
    "column_averages = np.mean(combined_array, axis=0)\n",
    "\n",
    "# Print the average of each column\n",
    "print(\"Average of each column:\", column_averages)"
   ]
  },
  {
   "cell_type": "code",
   "execution_count": 11,
   "metadata": {},
   "outputs": [
    {
     "data": {
      "image/png": "[encoded data removed]",
      "text/plain": [
       "<Figure size 640x480 with 1 Axes>"
      ]
     },
     "metadata": {},
     "output_type": "display_data"
    }
   ],
   "source": [
    "for i, column in enumerate(column_averages):\n",
    "        plt.plot(np.arange(1, epochs + 1),column, label=f'Depth {i+1}')\n",
    "\n",
    "plt.xticks(np.arange(1, epochs+1))\n",
    "\n",
    "plt.xlabel('Epochs')\n",
    "plt.ylabel('Validation Accuracy')\n",
    "plt.title('Validation Accuracy vs. Epochs for Different Model Conv Depths ('+str(iteration)+' iterations) on 25% dataset')\n",
    "plt.legend()\n",
    "plt.grid(True)\n"
   ]
  },
  {
   "cell_type": "code",
   "execution_count": 12,
   "metadata": {},
   "outputs": [
    {
     "data": {
      "text/plain": [
       "<Figure size 640x480 with 0 Axes>"
      ]
     },
     "metadata": {},
     "output_type": "display_data"
    }
   ],
   "source": [
    "current_time = datetime.now().strftime(\"%Y-%m-%d_%H-%M-%S\")\n",
    "filename = f\"testing records/validation_accuracy_{current_time}.png\"\n",
    "plt.savefig(filename)"
   ]
  },
  {
   "cell_type": "code",
   "execution_count": null,
   "metadata": {},
   "outputs": [],
   "source": []
  }
 ],
 "metadata": {
  "kernelspec": {
   "display_name": "Python 3",
   "language": "python",
   "name": "python3"
  },
  "language_info": {
   "codemirror_mode": {
    "name": "ipython",
    "version": 3
   },
   "file_extension": ".py",
   "mimetype": "text/x-python",
   "name": "python",
   "nbconvert_exporter": "python",
   "pygments_lexer": "ipython3",
   "version": "3.8.0"
  }
 },
 "nbformat": 4,
 "nbformat_minor": 2
}
