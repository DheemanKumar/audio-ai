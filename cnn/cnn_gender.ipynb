{
 "cells": [
  {
   "cell_type": "code",
   "execution_count": null,
   "metadata": {},
   "outputs": [],
   "source": [
    "\n",
    "import tensorflow as tf\n",
    "\n",
    "# Check for TensorFlow GPU access\n",
    "print(f\"TensorFlow has access to the following devices:\\n{tf.config.list_physical_devices()}\")\n",
    "\n",
    "# See TensorFlow version\n",
    "print(f\"TensorFlow version: {tf.__version__}\")"
   ]
  },
  {
   "cell_type": "code",
   "execution_count": 1,
   "metadata": {},
   "outputs": [],
   "source": [
    "from os import chdir\n",
    "chdir(\"../\")   # only run this ones else error will occur\n"
   ]
  },
  {
   "cell_type": "code",
   "execution_count": 2,
   "metadata": {},
   "outputs": [],
   "source": [
    "import numpy as np\n",
    "from tensorflow.keras.models import load_model\n",
    "\n",
    "from tensorflow.keras import layers,models\n",
    "import matplotlib.pyplot as plt\n",
    "\n",
    "\n",
    "from datetime import datetime"
   ]
  },
  {
   "cell_type": "code",
   "execution_count": 3,
   "metadata": {},
   "outputs": [],
   "source": [
    "X_train_l = np.load('private/npy/X_train_gender.npy')\n",
    "X_test_l = np.load('private/npy/X_test_gender.npy')\n",
    "y_train_l = np.load('private/npy/y_train_gender.npy')\n",
    "y_test_l = np.load('private/npy/y_test_gender.npy')"
   ]
  },
  {
   "cell_type": "code",
   "execution_count": 4,
   "metadata": {},
   "outputs": [],
   "source": [
    "def create_model(depth):\n",
    "    model = models.Sequential()\n",
    "    model.add(layers.Conv2D(64, (3, 3), activation='relu', input_shape=(128, 130, 1)))\n",
    "    model.add(layers.MaxPooling2D((2, 2)))\n",
    "\n",
    "    for _ in range(depth):  # Reduce the number of max pooling layers\n",
    "        model.add(layers.Conv2D(64, (3, 3), activation='relu'))\n",
    "        model.add(layers.MaxPooling2D((2, 2)))\n",
    "\n",
    "    model.add(layers.Flatten())\n",
    "    model.add(layers.Dense(128, activation='relu'))\n",
    "    model.add(layers.Dense(2, activation='softmax'))\n",
    "\n",
    "    model.compile(optimizer='adam',\n",
    "                  loss='categorical_crossentropy',\n",
    "                  metrics=['accuracy'])\n",
    "\n",
    "\n",
    "    return model\n"
   ]
  },
  {
   "cell_type": "code",
   "execution_count": 5,
   "metadata": {},
   "outputs": [],
   "source": [
    "def train_models(depths, epochs):\n",
    "    validation_accuracies = []\n",
    "\n",
    "    for depth in depths:\n",
    "        # Create model\n",
    "        model = create_model(depth)\n",
    "\n",
    "        # Train model\n",
    "        history = model.fit(X_train_l, y_train_l, epochs=epochs, validation_data=(X_test_l, y_test_l), batch_size=64,verbose=0)\n",
    "\n",
    "        # Record validation accuracy\n",
    "        validation_accuracies.append(history.history['val_accuracy'])\n",
    "\n",
    "    return validation_accuracies\n"
   ]
  },
  {
   "cell_type": "code",
   "execution_count": 13,
   "metadata": {},
   "outputs": [],
   "source": [
    "validation_accuracies=[]"
   ]
  },
  {
   "cell_type": "code",
   "execution_count": 15,
   "metadata": {},
   "outputs": [
    {
     "name": "stderr",
     "output_type": "stream",
     "text": [
      "2024-02-12 01:16:50.280697: I tensorflow/core/grappler/optimizers/custom_graph_optimizer_registry.cc:114] Plugin optimizer for device_type GPU is enabled.\n",
      "2024-02-12 01:17:14.863498: I tensorflow/core/grappler/optimizers/custom_graph_optimizer_registry.cc:114] Plugin optimizer for device_type GPU is enabled.\n",
      "2024-02-12 01:18:58.749362: I tensorflow/core/grappler/optimizers/custom_graph_optimizer_registry.cc:114] Plugin optimizer for device_type GPU is enabled.\n",
      "2024-02-12 01:19:27.436584: I tensorflow/core/grappler/optimizers/custom_graph_optimizer_registry.cc:114] Plugin optimizer for device_type GPU is enabled.\n",
      "2024-02-12 01:21:17.163453: I tensorflow/core/grappler/optimizers/custom_graph_optimizer_registry.cc:114] Plugin optimizer for device_type GPU is enabled.\n",
      "2024-02-12 01:21:41.838658: I tensorflow/core/grappler/optimizers/custom_graph_optimizer_registry.cc:114] Plugin optimizer for device_type GPU is enabled.\n",
      "2024-02-12 01:23:25.678070: I tensorflow/core/grappler/optimizers/custom_graph_optimizer_registry.cc:114] Plugin optimizer for device_type GPU is enabled.\n",
      "2024-02-12 01:23:49.676127: I tensorflow/core/grappler/optimizers/custom_graph_optimizer_registry.cc:114] Plugin optimizer for device_type GPU is enabled.\n",
      "2024-02-12 01:25:33.453331: I tensorflow/core/grappler/optimizers/custom_graph_optimizer_registry.cc:114] Plugin optimizer for device_type GPU is enabled.\n",
      "2024-02-12 01:25:58.136849: I tensorflow/core/grappler/optimizers/custom_graph_optimizer_registry.cc:114] Plugin optimizer for device_type GPU is enabled.\n",
      "2024-02-12 01:27:49.273412: I tensorflow/core/grappler/optimizers/custom_graph_optimizer_registry.cc:114] Plugin optimizer for device_type GPU is enabled.\n",
      "2024-02-12 01:28:14.183181: I tensorflow/core/grappler/optimizers/custom_graph_optimizer_registry.cc:114] Plugin optimizer for device_type GPU is enabled.\n",
      "2024-02-12 01:30:03.235394: I tensorflow/core/grappler/optimizers/custom_graph_optimizer_registry.cc:114] Plugin optimizer for device_type GPU is enabled.\n",
      "2024-02-12 01:30:28.401159: I tensorflow/core/grappler/optimizers/custom_graph_optimizer_registry.cc:114] Plugin optimizer for device_type GPU is enabled.\n",
      "2024-02-12 01:32:14.692218: I tensorflow/core/grappler/optimizers/custom_graph_optimizer_registry.cc:114] Plugin optimizer for device_type GPU is enabled.\n",
      "2024-02-12 01:32:39.151589: I tensorflow/core/grappler/optimizers/custom_graph_optimizer_registry.cc:114] Plugin optimizer for device_type GPU is enabled.\n",
      "2024-02-12 01:34:24.515564: I tensorflow/core/grappler/optimizers/custom_graph_optimizer_registry.cc:114] Plugin optimizer for device_type GPU is enabled.\n",
      "2024-02-12 01:34:50.268266: I tensorflow/core/grappler/optimizers/custom_graph_optimizer_registry.cc:114] Plugin optimizer for device_type GPU is enabled.\n",
      "2024-02-12 01:36:37.227144: I tensorflow/core/grappler/optimizers/custom_graph_optimizer_registry.cc:114] Plugin optimizer for device_type GPU is enabled.\n",
      "2024-02-12 01:37:02.110795: I tensorflow/core/grappler/optimizers/custom_graph_optimizer_registry.cc:114] Plugin optimizer for device_type GPU is enabled.\n",
      "2024-02-12 01:38:47.087397: I tensorflow/core/grappler/optimizers/custom_graph_optimizer_registry.cc:114] Plugin optimizer for device_type GPU is enabled.\n",
      "2024-02-12 01:39:11.607379: I tensorflow/core/grappler/optimizers/custom_graph_optimizer_registry.cc:114] Plugin optimizer for device_type GPU is enabled.\n",
      "2024-02-12 01:40:54.802656: I tensorflow/core/grappler/optimizers/custom_graph_optimizer_registry.cc:114] Plugin optimizer for device_type GPU is enabled.\n",
      "2024-02-12 01:41:19.370925: I tensorflow/core/grappler/optimizers/custom_graph_optimizer_registry.cc:114] Plugin optimizer for device_type GPU is enabled.\n",
      "2024-02-12 01:43:06.012859: I tensorflow/core/grappler/optimizers/custom_graph_optimizer_registry.cc:114] Plugin optimizer for device_type GPU is enabled.\n",
      "2024-02-12 01:43:27.955924: I tensorflow/core/grappler/optimizers/custom_graph_optimizer_registry.cc:114] Plugin optimizer for device_type GPU is enabled.\n",
      "2024-02-12 01:44:55.104750: I tensorflow/core/grappler/optimizers/custom_graph_optimizer_registry.cc:114] Plugin optimizer for device_type GPU is enabled.\n",
      "2024-02-12 01:45:18.008896: I tensorflow/core/grappler/optimizers/custom_graph_optimizer_registry.cc:114] Plugin optimizer for device_type GPU is enabled.\n",
      "2024-02-12 01:46:51.901047: I tensorflow/core/grappler/optimizers/custom_graph_optimizer_registry.cc:114] Plugin optimizer for device_type GPU is enabled.\n",
      "2024-02-12 01:47:16.288605: I tensorflow/core/grappler/optimizers/custom_graph_optimizer_registry.cc:114] Plugin optimizer for device_type GPU is enabled.\n",
      "2024-02-12 01:49:00.319766: I tensorflow/core/grappler/optimizers/custom_graph_optimizer_registry.cc:114] Plugin optimizer for device_type GPU is enabled.\n",
      "2024-02-12 01:49:25.031434: I tensorflow/core/grappler/optimizers/custom_graph_optimizer_registry.cc:114] Plugin optimizer for device_type GPU is enabled.\n",
      "2024-02-12 01:51:07.539113: I tensorflow/core/grappler/optimizers/custom_graph_optimizer_registry.cc:114] Plugin optimizer for device_type GPU is enabled.\n",
      "2024-02-12 01:51:34.602348: I tensorflow/core/grappler/optimizers/custom_graph_optimizer_registry.cc:114] Plugin optimizer for device_type GPU is enabled.\n"
     ]
    }
   ],
   "source": [
    "for i in range(10):\n",
    "\n",
    "    depths = [1,2,3,4]  # You can modify this list with different depths\n",
    "\n",
    "    # Define number of epochs\n",
    "    epochs = 5\n",
    "\n",
    "    # Train models and save validation accuracies\n",
    "    validation_accuracies.append(train_models(depths, epochs))\n"
   ]
  },
  {
   "cell_type": "code",
   "execution_count": 21,
   "metadata": {},
   "outputs": [
    {
     "data": {
      "text/plain": [
       "[[[0.711730420589447,\n",
       "   0.7608153223991394,\n",
       "   0.7891014814376831,\n",
       "   0.607737123966217,\n",
       "   0.6368552446365356],\n",
       "  [0.3993344306945801,\n",
       "   0.8173877000808716,\n",
       "   0.8452578783035278,\n",
       "   0.9034941792488098,\n",
       "   0.869800329208374],\n",
       "  [0.6160565614700317,\n",
       "   0.6185523867607117,\n",
       "   0.6098169684410095,\n",
       "   0.6364392638206482,\n",
       "   0.8660565614700317],\n",
       "  [0.6888518929481506,\n",
       "   0.9026622176170349,\n",
       "   0.941763699054718,\n",
       "   0.9575707316398621,\n",
       "   0.9538269639015198]],\n",
       " [[0.607737123966217,\n",
       "   0.607737123966217,\n",
       "   0.607737123966217,\n",
       "   0.607737123966217,\n",
       "   0.607737123966217],\n",
       "  [0.6938436031341553,\n",
       "   0.400166392326355,\n",
       "   0.44966721534729004,\n",
       "   0.6235440969467163,\n",
       "   0.7574875354766846],\n",
       "  [0.7791181206703186,\n",
       "   0.7841098308563232,\n",
       "   0.948003351688385,\n",
       "   0.9596505761146545,\n",
       "   0.9546589255332947],\n",
       "  [0.739600658416748,\n",
       "   0.917637288570404,\n",
       "   0.9222129583358765,\n",
       "   0.9525790214538574,\n",
       "   0.9550748467445374]],\n",
       " [[0.832362711429596,\n",
       "   0.768302857875824,\n",
       "   0.7995008230209351,\n",
       "   0.9039101600646973,\n",
       "   0.8431780338287354],\n",
       "  [0.611896812915802,\n",
       "   0.607737123966217,\n",
       "   0.679700493812561,\n",
       "   0.6855241060256958,\n",
       "   0.7732945084571838],\n",
       "  [0.607737123966217,\n",
       "   0.8390182852745056,\n",
       "   0.8311148285865784,\n",
       "   0.9159733653068542,\n",
       "   0.909733772277832],\n",
       "  [0.5291181206703186,\n",
       "   0.8581531047821045,\n",
       "   0.8847754001617432,\n",
       "   0.9109817147254944,\n",
       "   0.8826954960823059]],\n",
       " [[0.730033278465271,\n",
       "   0.7004991769790649,\n",
       "   0.7762063145637512,\n",
       "   0.7046589255332947,\n",
       "   0.7774542570114136],\n",
       "  [0.638103187084198,\n",
       "   0.8914309740066528,\n",
       "   0.9014143347740173,\n",
       "   0.9159733653068542,\n",
       "   0.9301164746284485],\n",
       "  [0.6073211431503296,\n",
       "   0.8589850068092346,\n",
       "   0.928036630153656,\n",
       "   0.9546589255332947,\n",
       "   0.8747920393943787],\n",
       "  [0.7042429447174072,\n",
       "   0.8806156516075134,\n",
       "   0.9130615592002869,\n",
       "   0.9525790214538574,\n",
       "   0.9471713900566101]],\n",
       " [[0.6921796798706055,\n",
       "   0.607737123966217,\n",
       "   0.607737123966217,\n",
       "   0.607737123966217,\n",
       "   0.7362728714942932],\n",
       "  [0.43510815501213074,\n",
       "   0.607737123966217,\n",
       "   0.670133113861084,\n",
       "   0.8826954960823059,\n",
       "   0.7574875354766846],\n",
       "  [0.6044093370437622,\n",
       "   0.6264559030532837,\n",
       "   0.8652245998382568,\n",
       "   0.8918468952178955,\n",
       "   0.8257071375846863],\n",
       "  [0.4446755349636078,\n",
       "   0.7258735299110413,\n",
       "   0.7524958252906799,\n",
       "   0.6651414036750793,\n",
       "   0.909733772277832]],\n",
       " [[0.6763727068901062,\n",
       "   0.6177204847335815,\n",
       "   0.607737123966217,\n",
       "   0.607737123966217,\n",
       "   0.607737123966217],\n",
       "  [0.719633936882019,\n",
       "   0.400166392326355,\n",
       "   0.6114808917045593,\n",
       "   0.7425124645233154,\n",
       "   0.5994176268577576],\n",
       "  [0.43427619338035583,\n",
       "   0.7358568906784058,\n",
       "   0.9055740237236023,\n",
       "   0.8968386054039001,\n",
       "   0.9396838545799255],\n",
       "  [0.607737123966217,\n",
       "   0.6410149931907654,\n",
       "   0.8685523867607117,\n",
       "   0.9284525513648987,\n",
       "   0.9355241060256958]],\n",
       " [[0.6946755647659302,\n",
       "   0.607737123966217,\n",
       "   0.607737123966217,\n",
       "   0.607737123966217,\n",
       "   0.739600658416748],\n",
       "  [0.607737123966217,\n",
       "   0.8631447553634644,\n",
       "   0.607737123966217,\n",
       "   0.630199670791626,\n",
       "   0.6464226245880127],\n",
       "  [0.607737123966217,\n",
       "   0.6089850068092346,\n",
       "   0.8652245998382568,\n",
       "   0.9138935208320618,\n",
       "   0.9396838545799255],\n",
       "  [0.6069051623344421,\n",
       "   0.6085690259933472,\n",
       "   0.7425124645233154,\n",
       "   0.8889350891113281,\n",
       "   0.9263727068901062]],\n",
       " [[0.607737123966217,\n",
       "   0.607737123966217,\n",
       "   0.607737123966217,\n",
       "   0.607737123966217,\n",
       "   0.607737123966217],\n",
       "  [0.611896812915802,\n",
       "   0.7674708962440491,\n",
       "   0.7262895107269287,\n",
       "   0.7063227891921997,\n",
       "   0.8639767169952393],\n",
       "  [0.49251246452331543,\n",
       "   0.47212979197502136,\n",
       "   0.6568219661712646,\n",
       "   0.8211314678192139,\n",
       "   0.8460898399353027],\n",
       "  [0.400166392326355,\n",
       "   0.607737123966217,\n",
       "   0.828203022480011,\n",
       "   0.9093177914619446,\n",
       "   0.9330282807350159]],\n",
       " [[0.607737123966217,\n",
       "   0.607737123966217,\n",
       "   0.6809484362602234,\n",
       "   0.6164725422859192,\n",
       "   0.6638935208320618],\n",
       "  [0.5865224599838257,\n",
       "   0.8119800090789795,\n",
       "   0.6268718838691711,\n",
       "   0.7408486008644104,\n",
       "   0.739600658416748],\n",
       "  [0.808236300945282,\n",
       "   0.8556572198867798,\n",
       "   0.9034941792488098,\n",
       "   0.8756239414215088,\n",
       "   0.9492512345314026],\n",
       "  [0.607737123966217,\n",
       "   0.739600658416748,\n",
       "   0.8901830315589905,\n",
       "   0.9467554092407227,\n",
       "   0.960066556930542]],\n",
       " [[0.607737123966217,\n",
       "   0.607737123966217,\n",
       "   0.607737123966217,\n",
       "   0.7637271285057068,\n",
       "   0.607737123966217],\n",
       "  [0.5124791860580444,\n",
       "   0.5948419570922852,\n",
       "   0.8373544216156006,\n",
       "   0.8930948376655579,\n",
       "   0.9355241060256958],\n",
       "  [0.6326954960823059,\n",
       "   0.8914309740066528,\n",
       "   0.9213810563087463,\n",
       "   0.9272046685218811,\n",
       "   0.9525790214538574],\n",
       "  [0.607737123966217,\n",
       "   0.6343594193458557,\n",
       "   0.7924292683601379,\n",
       "   0.9059900045394897,\n",
       "   0.928036630153656]]]"
      ]
     },
     "execution_count": 21,
     "metadata": {},
     "output_type": "execute_result"
    }
   ],
   "source": [
    "validation_accuracies"
   ]
  },
  {
   "cell_type": "code",
   "execution_count": 16,
   "metadata": {},
   "outputs": [],
   "source": [
    "combined_array = np.array(validation_accuracies)"
   ]
  },
  {
   "cell_type": "code",
   "execution_count": 17,
   "metadata": {},
   "outputs": [
    {
     "name": "stdout",
     "output_type": "stream",
     "text": [
      "Average of each column: [[0.67683029 0.64937606 0.66921798 0.66351915 0.68282031]\n",
      " [0.58165557 0.67620633 0.69559069 0.77242096 0.78731281]\n",
      " [0.61900999 0.72911813 0.84346922 0.87932612 0.90582362]\n",
      " [0.59367721 0.7516223  0.85361896 0.90183027 0.93315307]]\n"
     ]
    }
   ],
   "source": [
    "column_averages = np.mean(combined_array, axis=0)\n",
    "\n",
    "# Print the average of each column\n",
    "print(\"Average of each column:\", column_averages)"
   ]
  },
  {
   "cell_type": "code",
   "execution_count": 20,
   "metadata": {},
   "outputs": [
    {
     "data": {
      "image/png": "[encoded data removed]",
      "text/plain": [
       "<Figure size 640x480 with 1 Axes>"
      ]
     },
     "metadata": {},
     "output_type": "display_data"
    }
   ],
   "source": [
    "for i, column in enumerate(column_averages):\n",
    "        plt.plot(column, label=f'Depth {i+1}')\n",
    "    \n",
    "plt.xlabel('Epochs')\n",
    "plt.ylabel('Validation Accuracy')\n",
    "plt.title('Validation Accuracy vs. Epochs for Different Model Depths')\n",
    "plt.legend()\n",
    "plt.grid(True)\n",
    "\n",
    "current_time = datetime.now().strftime(\"%Y-%m-%d_%H-%M-%S\")\n",
    "filename = f\"testing records/validation_accuracy_{current_time}.png\"\n",
    "plt.savefig(filename)"
   ]
  },
  {
   "cell_type": "code",
   "execution_count": 19,
   "metadata": {},
   "outputs": [
    {
     "data": {
      "text/plain": [
       "<Figure size 640x480 with 0 Axes>"
      ]
     },
     "metadata": {},
     "output_type": "display_data"
    }
   ],
   "source": [
    "current_time = datetime.now().strftime(\"%Y-%m-%d_%H-%M-%S\")\n",
    "filename = f\"testing records/validation_accuracy_{current_time}.png\"\n",
    "plt.savefig(filename)"
   ]
  },
  {
   "cell_type": "code",
   "execution_count": null,
   "metadata": {},
   "outputs": [],
   "source": []
  }
 ],
 "metadata": {
  "kernelspec": {
   "display_name": "Python 3",
   "language": "python",
   "name": "python3"
  },
  "language_info": {
   "codemirror_mode": {
    "name": "ipython",
    "version": 3
   },
   "file_extension": ".py",
   "mimetype": "text/x-python",
   "name": "python",
   "nbconvert_exporter": "python",
   "pygments_lexer": "ipython3",
   "version": "3.8.18"
  }
 },
 "nbformat": 4,
 "nbformat_minor": 2
}
